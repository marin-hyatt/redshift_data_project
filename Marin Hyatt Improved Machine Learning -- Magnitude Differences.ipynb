{
 "cells": [
  {
   "cell_type": "markdown",
   "metadata": {},
   "source": [
    "Importing modules"
   ]
  },
  {
   "cell_type": "code",
   "execution_count": 44,
   "metadata": {},
   "outputs": [],
   "source": [
    "import pandas as pd\n",
    "import numpy\n",
    "import numpy as np\n",
    "import matplotlib.pyplot as plt"
   ]
  },
  {
   "cell_type": "markdown",
   "metadata": {},
   "source": [
    "Create data files with data and the headings"
   ]
  },
  {
   "cell_type": "code",
   "execution_count": 2,
   "metadata": {},
   "outputs": [],
   "source": [
    "data = numpy.loadtxt(\"Skyserver_Spectro2_13_2018 10_41_13 PM.csv\", skiprows = 2, delimiter = \",\")"
   ]
  },
  {
   "cell_type": "code",
   "execution_count": 3,
   "metadata": {},
   "outputs": [],
   "source": [
    "names = numpy.loadtxt(\"Skyserver_Spectro2_13_2018 10_41_13 PM.csv\", dtype=str, skiprows = 1, delimiter = \",\")[0]"
   ]
  },
  {
   "cell_type": "markdown",
   "metadata": {},
   "source": [
    "Convert the text files into a dataframe"
   ]
  },
  {
   "cell_type": "code",
   "execution_count": 4,
   "metadata": {},
   "outputs": [
    {
     "data": {
      "text/html": [
       "<div>\n",
       "<style scoped>\n",
       "    .dataframe tbody tr th:only-of-type {\n",
       "        vertical-align: middle;\n",
       "    }\n",
       "\n",
       "    .dataframe tbody tr th {\n",
       "        vertical-align: top;\n",
       "    }\n",
       "\n",
       "    .dataframe thead th {\n",
       "        text-align: right;\n",
       "    }\n",
       "</style>\n",
       "<table border=\"1\" class=\"dataframe\">\n",
       "  <thead>\n",
       "    <tr style=\"text-align: right;\">\n",
       "      <th></th>\n",
       "      <th>objid</th>\n",
       "      <th>ra</th>\n",
       "      <th>dec</th>\n",
       "      <th>u</th>\n",
       "      <th>g</th>\n",
       "      <th>r</th>\n",
       "      <th>i</th>\n",
       "      <th>z</th>\n",
       "      <th>redshift</th>\n",
       "      <th>specobjid</th>\n",
       "      <th>plate</th>\n",
       "      <th>mjd</th>\n",
       "      <th>fiberid</th>\n",
       "    </tr>\n",
       "  </thead>\n",
       "  <tbody>\n",
       "    <tr>\n",
       "      <th>0</th>\n",
       "      <td>1237645879551000764</td>\n",
       "      <td>348.841087</td>\n",
       "      <td>1.268802</td>\n",
       "      <td>25.92735</td>\n",
       "      <td>20.99570</td>\n",
       "      <td>19.24612</td>\n",
       "      <td>18.56461</td>\n",
       "      <td>18.43049</td>\n",
       "      <td>0.399651</td>\n",
       "      <td>4825695603672457216</td>\n",
       "      <td>4286</td>\n",
       "      <td>55499</td>\n",
       "      <td>322</td>\n",
       "    </tr>\n",
       "    <tr>\n",
       "      <th>1</th>\n",
       "      <td>1237645879551066262</td>\n",
       "      <td>348.902530</td>\n",
       "      <td>1.271886</td>\n",
       "      <td>19.38905</td>\n",
       "      <td>18.24496</td>\n",
       "      <td>17.58728</td>\n",
       "      <td>17.20807</td>\n",
       "      <td>16.90905</td>\n",
       "      <td>0.032125</td>\n",
       "      <td>430194949951088640</td>\n",
       "      <td>382</td>\n",
       "      <td>51816</td>\n",
       "      <td>368</td>\n",
       "    </tr>\n",
       "    <tr>\n",
       "      <th>2</th>\n",
       "      <td>1237645879562928144</td>\n",
       "      <td>16.004912</td>\n",
       "      <td>1.259423</td>\n",
       "      <td>21.50923</td>\n",
       "      <td>19.69340</td>\n",
       "      <td>18.47973</td>\n",
       "      <td>17.91998</td>\n",
       "      <td>17.55132</td>\n",
       "      <td>0.312048</td>\n",
       "      <td>754455784200366080</td>\n",
       "      <td>670</td>\n",
       "      <td>52520</td>\n",
       "      <td>374</td>\n",
       "    </tr>\n",
       "    <tr>\n",
       "      <th>3</th>\n",
       "      <td>1237645879562928258</td>\n",
       "      <td>16.020244</td>\n",
       "      <td>1.267667</td>\n",
       "      <td>20.96947</td>\n",
       "      <td>20.29136</td>\n",
       "      <td>19.36779</td>\n",
       "      <td>18.86387</td>\n",
       "      <td>18.45551</td>\n",
       "      <td>0.200468</td>\n",
       "      <td>754453860055017472</td>\n",
       "      <td>670</td>\n",
       "      <td>52520</td>\n",
       "      <td>367</td>\n",
       "    </tr>\n",
       "    <tr>\n",
       "      <th>4</th>\n",
       "      <td>1237645879562928805</td>\n",
       "      <td>16.026029</td>\n",
       "      <td>1.266772</td>\n",
       "      <td>25.27165</td>\n",
       "      <td>22.32081</td>\n",
       "      <td>21.33033</td>\n",
       "      <td>19.94852</td>\n",
       "      <td>19.47201</td>\n",
       "      <td>0.752645</td>\n",
       "      <td>4853831831466778624</td>\n",
       "      <td>4311</td>\n",
       "      <td>55506</td>\n",
       "      <td>281</td>\n",
       "    </tr>\n",
       "  </tbody>\n",
       "</table>\n",
       "</div>"
      ],
      "text/plain": [
       "                 objid          ra       dec         u         g         r  \\\n",
       "0  1237645879551000764  348.841087  1.268802  25.92735  20.99570  19.24612   \n",
       "1  1237645879551066262  348.902530  1.271886  19.38905  18.24496  17.58728   \n",
       "2  1237645879562928144   16.004912  1.259423  21.50923  19.69340  18.47973   \n",
       "3  1237645879562928258   16.020244  1.267667  20.96947  20.29136  19.36779   \n",
       "4  1237645879562928805   16.026029  1.266772  25.27165  22.32081  21.33033   \n",
       "\n",
       "          i         z  redshift            specobjid  plate    mjd  fiberid  \n",
       "0  18.56461  18.43049  0.399651  4825695603672457216   4286  55499      322  \n",
       "1  17.20807  16.90905  0.032125   430194949951088640    382  51816      368  \n",
       "2  17.91998  17.55132  0.312048   754455784200366080    670  52520      374  \n",
       "3  18.86387  18.45551  0.200468   754453860055017472    670  52520      367  \n",
       "4  19.94852  19.47201  0.752645  4853831831466778624   4311  55506      281  "
      ]
     },
     "execution_count": 4,
     "metadata": {},
     "output_type": "execute_result"
    }
   ],
   "source": [
    "original_df = pd.read_csv(\"/Users/marin/machine/redshift_data_project/Skyserver_Spectro2_13_2018 10_41_13 PM.csv\", \\\n",
    "                 delimiter = \",\", skiprows=1)\n",
    "original_df.head()"
   ]
  },
  {
   "cell_type": "markdown",
   "metadata": {},
   "source": [
    "Filters out values where i = -9999.0, z = -9999.0, and redshift = 0.00"
   ]
  },
  {
   "cell_type": "code",
   "execution_count": 5,
   "metadata": {},
   "outputs": [
    {
     "data": {
      "text/html": [
       "<div>\n",
       "<style scoped>\n",
       "    .dataframe tbody tr th:only-of-type {\n",
       "        vertical-align: middle;\n",
       "    }\n",
       "\n",
       "    .dataframe tbody tr th {\n",
       "        vertical-align: top;\n",
       "    }\n",
       "\n",
       "    .dataframe thead th {\n",
       "        text-align: right;\n",
       "    }\n",
       "</style>\n",
       "<table border=\"1\" class=\"dataframe\">\n",
       "  <thead>\n",
       "    <tr style=\"text-align: right;\">\n",
       "      <th></th>\n",
       "      <th>objid</th>\n",
       "      <th>ra</th>\n",
       "      <th>dec</th>\n",
       "      <th>u</th>\n",
       "      <th>g</th>\n",
       "      <th>r</th>\n",
       "      <th>i</th>\n",
       "      <th>z</th>\n",
       "      <th>redshift</th>\n",
       "      <th>specobjid</th>\n",
       "      <th>plate</th>\n",
       "      <th>mjd</th>\n",
       "      <th>fiberid</th>\n",
       "    </tr>\n",
       "  </thead>\n",
       "  <tbody>\n",
       "    <tr>\n",
       "      <th>0</th>\n",
       "      <td>1237645879551000764</td>\n",
       "      <td>348.841087</td>\n",
       "      <td>1.268802</td>\n",
       "      <td>25.92735</td>\n",
       "      <td>20.99570</td>\n",
       "      <td>19.24612</td>\n",
       "      <td>18.56461</td>\n",
       "      <td>18.43049</td>\n",
       "      <td>0.399651</td>\n",
       "      <td>4825695603672457216</td>\n",
       "      <td>4286</td>\n",
       "      <td>55499</td>\n",
       "      <td>322</td>\n",
       "    </tr>\n",
       "    <tr>\n",
       "      <th>1</th>\n",
       "      <td>1237645879551066262</td>\n",
       "      <td>348.902530</td>\n",
       "      <td>1.271886</td>\n",
       "      <td>19.38905</td>\n",
       "      <td>18.24496</td>\n",
       "      <td>17.58728</td>\n",
       "      <td>17.20807</td>\n",
       "      <td>16.90905</td>\n",
       "      <td>0.032125</td>\n",
       "      <td>430194949951088640</td>\n",
       "      <td>382</td>\n",
       "      <td>51816</td>\n",
       "      <td>368</td>\n",
       "    </tr>\n",
       "    <tr>\n",
       "      <th>2</th>\n",
       "      <td>1237645879562928144</td>\n",
       "      <td>16.004912</td>\n",
       "      <td>1.259423</td>\n",
       "      <td>21.50923</td>\n",
       "      <td>19.69340</td>\n",
       "      <td>18.47973</td>\n",
       "      <td>17.91998</td>\n",
       "      <td>17.55132</td>\n",
       "      <td>0.312048</td>\n",
       "      <td>754455784200366080</td>\n",
       "      <td>670</td>\n",
       "      <td>52520</td>\n",
       "      <td>374</td>\n",
       "    </tr>\n",
       "    <tr>\n",
       "      <th>3</th>\n",
       "      <td>1237645879562928258</td>\n",
       "      <td>16.020244</td>\n",
       "      <td>1.267667</td>\n",
       "      <td>20.96947</td>\n",
       "      <td>20.29136</td>\n",
       "      <td>19.36779</td>\n",
       "      <td>18.86387</td>\n",
       "      <td>18.45551</td>\n",
       "      <td>0.200468</td>\n",
       "      <td>754453860055017472</td>\n",
       "      <td>670</td>\n",
       "      <td>52520</td>\n",
       "      <td>367</td>\n",
       "    </tr>\n",
       "    <tr>\n",
       "      <th>4</th>\n",
       "      <td>1237645879562928805</td>\n",
       "      <td>16.026029</td>\n",
       "      <td>1.266772</td>\n",
       "      <td>25.27165</td>\n",
       "      <td>22.32081</td>\n",
       "      <td>21.33033</td>\n",
       "      <td>19.94852</td>\n",
       "      <td>19.47201</td>\n",
       "      <td>0.752645</td>\n",
       "      <td>4853831831466778624</td>\n",
       "      <td>4311</td>\n",
       "      <td>55506</td>\n",
       "      <td>281</td>\n",
       "    </tr>\n",
       "  </tbody>\n",
       "</table>\n",
       "</div>"
      ],
      "text/plain": [
       "                 objid          ra       dec         u         g         r  \\\n",
       "0  1237645879551000764  348.841087  1.268802  25.92735  20.99570  19.24612   \n",
       "1  1237645879551066262  348.902530  1.271886  19.38905  18.24496  17.58728   \n",
       "2  1237645879562928144   16.004912  1.259423  21.50923  19.69340  18.47973   \n",
       "3  1237645879562928258   16.020244  1.267667  20.96947  20.29136  19.36779   \n",
       "4  1237645879562928805   16.026029  1.266772  25.27165  22.32081  21.33033   \n",
       "\n",
       "          i         z  redshift            specobjid  plate    mjd  fiberid  \n",
       "0  18.56461  18.43049  0.399651  4825695603672457216   4286  55499      322  \n",
       "1  17.20807  16.90905  0.032125   430194949951088640    382  51816      368  \n",
       "2  17.91998  17.55132  0.312048   754455784200366080    670  52520      374  \n",
       "3  18.86387  18.45551  0.200468   754453860055017472    670  52520      367  \n",
       "4  19.94852  19.47201  0.752645  4853831831466778624   4311  55506      281  "
      ]
     },
     "execution_count": 5,
     "metadata": {},
     "output_type": "execute_result"
    }
   ],
   "source": [
    "df_filtered = original_df[(original_df['i'] != -9999.0) & (original_df['z'] != -9999.0) & (original_df['redshift'] != 0.00)]\n",
    "df_filtered.head()"
   ]
  },
  {
   "cell_type": "markdown",
   "metadata": {},
   "source": [
    "Filters out values where redshift < 0.01, because there are a lot of filler values at 0.01 for some reason"
   ]
  },
  {
   "cell_type": "code",
   "execution_count": 6,
   "metadata": {},
   "outputs": [
    {
     "data": {
      "text/html": [
       "<div>\n",
       "<style scoped>\n",
       "    .dataframe tbody tr th:only-of-type {\n",
       "        vertical-align: middle;\n",
       "    }\n",
       "\n",
       "    .dataframe tbody tr th {\n",
       "        vertical-align: top;\n",
       "    }\n",
       "\n",
       "    .dataframe thead th {\n",
       "        text-align: right;\n",
       "    }\n",
       "</style>\n",
       "<table border=\"1\" class=\"dataframe\">\n",
       "  <thead>\n",
       "    <tr style=\"text-align: right;\">\n",
       "      <th></th>\n",
       "      <th>objid</th>\n",
       "      <th>ra</th>\n",
       "      <th>dec</th>\n",
       "      <th>u</th>\n",
       "      <th>g</th>\n",
       "      <th>r</th>\n",
       "      <th>i</th>\n",
       "      <th>z</th>\n",
       "      <th>redshift</th>\n",
       "      <th>specobjid</th>\n",
       "      <th>plate</th>\n",
       "      <th>mjd</th>\n",
       "      <th>fiberid</th>\n",
       "    </tr>\n",
       "  </thead>\n",
       "  <tbody>\n",
       "    <tr>\n",
       "      <th>0</th>\n",
       "      <td>1237645879551000764</td>\n",
       "      <td>348.841087</td>\n",
       "      <td>1.268802</td>\n",
       "      <td>25.92735</td>\n",
       "      <td>20.99570</td>\n",
       "      <td>19.24612</td>\n",
       "      <td>18.56461</td>\n",
       "      <td>18.43049</td>\n",
       "      <td>0.399651</td>\n",
       "      <td>4825695603672457216</td>\n",
       "      <td>4286</td>\n",
       "      <td>55499</td>\n",
       "      <td>322</td>\n",
       "    </tr>\n",
       "    <tr>\n",
       "      <th>1</th>\n",
       "      <td>1237645879551066262</td>\n",
       "      <td>348.902530</td>\n",
       "      <td>1.271886</td>\n",
       "      <td>19.38905</td>\n",
       "      <td>18.24496</td>\n",
       "      <td>17.58728</td>\n",
       "      <td>17.20807</td>\n",
       "      <td>16.90905</td>\n",
       "      <td>0.032125</td>\n",
       "      <td>430194949951088640</td>\n",
       "      <td>382</td>\n",
       "      <td>51816</td>\n",
       "      <td>368</td>\n",
       "    </tr>\n",
       "    <tr>\n",
       "      <th>2</th>\n",
       "      <td>1237645879562928144</td>\n",
       "      <td>16.004912</td>\n",
       "      <td>1.259423</td>\n",
       "      <td>21.50923</td>\n",
       "      <td>19.69340</td>\n",
       "      <td>18.47973</td>\n",
       "      <td>17.91998</td>\n",
       "      <td>17.55132</td>\n",
       "      <td>0.312048</td>\n",
       "      <td>754455784200366080</td>\n",
       "      <td>670</td>\n",
       "      <td>52520</td>\n",
       "      <td>374</td>\n",
       "    </tr>\n",
       "    <tr>\n",
       "      <th>3</th>\n",
       "      <td>1237645879562928258</td>\n",
       "      <td>16.020244</td>\n",
       "      <td>1.267667</td>\n",
       "      <td>20.96947</td>\n",
       "      <td>20.29136</td>\n",
       "      <td>19.36779</td>\n",
       "      <td>18.86387</td>\n",
       "      <td>18.45551</td>\n",
       "      <td>0.200468</td>\n",
       "      <td>754453860055017472</td>\n",
       "      <td>670</td>\n",
       "      <td>52520</td>\n",
       "      <td>367</td>\n",
       "    </tr>\n",
       "    <tr>\n",
       "      <th>4</th>\n",
       "      <td>1237645879562928805</td>\n",
       "      <td>16.026029</td>\n",
       "      <td>1.266772</td>\n",
       "      <td>25.27165</td>\n",
       "      <td>22.32081</td>\n",
       "      <td>21.33033</td>\n",
       "      <td>19.94852</td>\n",
       "      <td>19.47201</td>\n",
       "      <td>0.752645</td>\n",
       "      <td>4853831831466778624</td>\n",
       "      <td>4311</td>\n",
       "      <td>55506</td>\n",
       "      <td>281</td>\n",
       "    </tr>\n",
       "  </tbody>\n",
       "</table>\n",
       "</div>"
      ],
      "text/plain": [
       "                 objid          ra       dec         u         g         r  \\\n",
       "0  1237645879551000764  348.841087  1.268802  25.92735  20.99570  19.24612   \n",
       "1  1237645879551066262  348.902530  1.271886  19.38905  18.24496  17.58728   \n",
       "2  1237645879562928144   16.004912  1.259423  21.50923  19.69340  18.47973   \n",
       "3  1237645879562928258   16.020244  1.267667  20.96947  20.29136  19.36779   \n",
       "4  1237645879562928805   16.026029  1.266772  25.27165  22.32081  21.33033   \n",
       "\n",
       "          i         z  redshift            specobjid  plate    mjd  fiberid  \n",
       "0  18.56461  18.43049  0.399651  4825695603672457216   4286  55499      322  \n",
       "1  17.20807  16.90905  0.032125   430194949951088640    382  51816      368  \n",
       "2  17.91998  17.55132  0.312048   754455784200366080    670  52520      374  \n",
       "3  18.86387  18.45551  0.200468   754453860055017472    670  52520      367  \n",
       "4  19.94852  19.47201  0.752645  4853831831466778624   4311  55506      281  "
      ]
     },
     "execution_count": 6,
     "metadata": {},
     "output_type": "execute_result"
    }
   ],
   "source": [
    "final_df = df_filtered[(df_filtered['redshift'] > 0.01)]\n",
    "final_df.head()"
   ]
  },
  {
   "cell_type": "markdown",
   "metadata": {},
   "source": [
    "Filters out outliers from final_df"
   ]
  },
  {
   "cell_type": "code",
   "execution_count": 7,
   "metadata": {},
   "outputs": [
    {
     "data": {
      "text/html": [
       "<div>\n",
       "<style scoped>\n",
       "    .dataframe tbody tr th:only-of-type {\n",
       "        vertical-align: middle;\n",
       "    }\n",
       "\n",
       "    .dataframe tbody tr th {\n",
       "        vertical-align: top;\n",
       "    }\n",
       "\n",
       "    .dataframe thead th {\n",
       "        text-align: right;\n",
       "    }\n",
       "</style>\n",
       "<table border=\"1\" class=\"dataframe\">\n",
       "  <thead>\n",
       "    <tr style=\"text-align: right;\">\n",
       "      <th></th>\n",
       "      <th>objid</th>\n",
       "      <th>ra</th>\n",
       "      <th>dec</th>\n",
       "      <th>u</th>\n",
       "      <th>g</th>\n",
       "      <th>r</th>\n",
       "      <th>i</th>\n",
       "      <th>z</th>\n",
       "      <th>redshift</th>\n",
       "      <th>specobjid</th>\n",
       "      <th>plate</th>\n",
       "      <th>mjd</th>\n",
       "      <th>fiberid</th>\n",
       "    </tr>\n",
       "  </thead>\n",
       "  <tbody>\n",
       "    <tr>\n",
       "      <th>0</th>\n",
       "      <td>1237645879551000764</td>\n",
       "      <td>348.841087</td>\n",
       "      <td>1.268802</td>\n",
       "      <td>25.92735</td>\n",
       "      <td>20.99570</td>\n",
       "      <td>19.24612</td>\n",
       "      <td>18.56461</td>\n",
       "      <td>18.43049</td>\n",
       "      <td>0.399651</td>\n",
       "      <td>4825695603672457216</td>\n",
       "      <td>4286</td>\n",
       "      <td>55499</td>\n",
       "      <td>322</td>\n",
       "    </tr>\n",
       "    <tr>\n",
       "      <th>1</th>\n",
       "      <td>1237645879551066262</td>\n",
       "      <td>348.902530</td>\n",
       "      <td>1.271886</td>\n",
       "      <td>19.38905</td>\n",
       "      <td>18.24496</td>\n",
       "      <td>17.58728</td>\n",
       "      <td>17.20807</td>\n",
       "      <td>16.90905</td>\n",
       "      <td>0.032125</td>\n",
       "      <td>430194949951088640</td>\n",
       "      <td>382</td>\n",
       "      <td>51816</td>\n",
       "      <td>368</td>\n",
       "    </tr>\n",
       "    <tr>\n",
       "      <th>2</th>\n",
       "      <td>1237645879562928144</td>\n",
       "      <td>16.004912</td>\n",
       "      <td>1.259423</td>\n",
       "      <td>21.50923</td>\n",
       "      <td>19.69340</td>\n",
       "      <td>18.47973</td>\n",
       "      <td>17.91998</td>\n",
       "      <td>17.55132</td>\n",
       "      <td>0.312048</td>\n",
       "      <td>754455784200366080</td>\n",
       "      <td>670</td>\n",
       "      <td>52520</td>\n",
       "      <td>374</td>\n",
       "    </tr>\n",
       "    <tr>\n",
       "      <th>3</th>\n",
       "      <td>1237645879562928258</td>\n",
       "      <td>16.020244</td>\n",
       "      <td>1.267667</td>\n",
       "      <td>20.96947</td>\n",
       "      <td>20.29136</td>\n",
       "      <td>19.36779</td>\n",
       "      <td>18.86387</td>\n",
       "      <td>18.45551</td>\n",
       "      <td>0.200468</td>\n",
       "      <td>754453860055017472</td>\n",
       "      <td>670</td>\n",
       "      <td>52520</td>\n",
       "      <td>367</td>\n",
       "    </tr>\n",
       "    <tr>\n",
       "      <th>4</th>\n",
       "      <td>1237645879562928805</td>\n",
       "      <td>16.026029</td>\n",
       "      <td>1.266772</td>\n",
       "      <td>25.27165</td>\n",
       "      <td>22.32081</td>\n",
       "      <td>21.33033</td>\n",
       "      <td>19.94852</td>\n",
       "      <td>19.47201</td>\n",
       "      <td>0.752645</td>\n",
       "      <td>4853831831466778624</td>\n",
       "      <td>4311</td>\n",
       "      <td>55506</td>\n",
       "      <td>281</td>\n",
       "    </tr>\n",
       "  </tbody>\n",
       "</table>\n",
       "</div>"
      ],
      "text/plain": [
       "                 objid          ra       dec         u         g         r  \\\n",
       "0  1237645879551000764  348.841087  1.268802  25.92735  20.99570  19.24612   \n",
       "1  1237645879551066262  348.902530  1.271886  19.38905  18.24496  17.58728   \n",
       "2  1237645879562928144   16.004912  1.259423  21.50923  19.69340  18.47973   \n",
       "3  1237645879562928258   16.020244  1.267667  20.96947  20.29136  19.36779   \n",
       "4  1237645879562928805   16.026029  1.266772  25.27165  22.32081  21.33033   \n",
       "\n",
       "          i         z  redshift            specobjid  plate    mjd  fiberid  \n",
       "0  18.56461  18.43049  0.399651  4825695603672457216   4286  55499      322  \n",
       "1  17.20807  16.90905  0.032125   430194949951088640    382  51816      368  \n",
       "2  17.91998  17.55132  0.312048   754455784200366080    670  52520      374  \n",
       "3  18.86387  18.45551  0.200468   754453860055017472    670  52520      367  \n",
       "4  19.94852  19.47201  0.752645  4853831831466778624   4311  55506      281  "
      ]
     },
     "execution_count": 7,
     "metadata": {},
     "output_type": "execute_result"
    }
   ],
   "source": [
    "no_outliers_df = final_df[numpy.abs(final_df['redshift']-final_df['redshift'].mean())\\\n",
    "                             <=(3*final_df['redshift'].std())]\n",
    "no_outliers_df.head()"
   ]
  },
  {
   "cell_type": "markdown",
   "metadata": {},
   "source": [
    "Plots a histogram of the values in each column of no_outliers_df. The purpose of this is to find outliers or filler values that could be throwing off the plots."
   ]
  },
  {
   "cell_type": "code",
   "execution_count": 45,
   "metadata": {},
   "outputs": [
    {
     "data": {
      "image/png": "[encoded data removed]",
      "text/plain": [
       "<Figure size 432x288 with 1 Axes>"
      ]
     },
     "metadata": {},
     "output_type": "display_data"
    },
    {
     "data": {
      "image/png": "[encoded data removed]",
      "text/plain": [
       "<Figure size 432x288 with 1 Axes>"
      ]
     },
     "metadata": {},
     "output_type": "display_data"
    },
    {
     "data": {
      "image/png": "[encoded data removed]",
      "text/plain": [
       "<Figure size 432x288 with 1 Axes>"
      ]
     },
     "metadata": {},
     "output_type": "display_data"
    },
    {
     "data": {
      "image/png": "[encoded data removed]",
      "text/plain": [
       "<Figure size 432x288 with 1 Axes>"
      ]
     },
     "metadata": {},
     "output_type": "display_data"
    },
    {
     "data": {
      "image/png": "[encoded data removed]",
      "text/plain": [
       "<Figure size 432x288 with 1 Axes>"
      ]
     },
     "metadata": {},
     "output_type": "display_data"
    },
    {
     "data": {
      "image/png": "[encoded data removed]",
      "text/plain": [
       "<Figure size 432x288 with 1 Axes>"
      ]
     },
     "metadata": {},
     "output_type": "display_data"
    }
   ],
   "source": [
    "for name in ['u', 'g', 'r', 'i', 'z', 'redshift']:\n",
    "    plt.hist(no_outliers_df[name], bins=50)\n",
    "    plt.xlabel(name)\n",
    "    plt.show()"
   ]
  },
  {
   "cell_type": "markdown",
   "metadata": {},
   "source": [
    "Creates a new dataframe with four new columns. Each column takes the difference between adjacent columns."
   ]
  },
  {
   "cell_type": "code",
   "execution_count": 11,
   "metadata": {},
   "outputs": [
    {
     "data": {
      "text/html": [
       "<div>\n",
       "<style scoped>\n",
       "    .dataframe tbody tr th:only-of-type {\n",
       "        vertical-align: middle;\n",
       "    }\n",
       "\n",
       "    .dataframe tbody tr th {\n",
       "        vertical-align: top;\n",
       "    }\n",
       "\n",
       "    .dataframe thead th {\n",
       "        text-align: right;\n",
       "    }\n",
       "</style>\n",
       "<table border=\"1\" class=\"dataframe\">\n",
       "  <thead>\n",
       "    <tr style=\"text-align: right;\">\n",
       "      <th></th>\n",
       "      <th>objid</th>\n",
       "      <th>ra</th>\n",
       "      <th>dec</th>\n",
       "      <th>u</th>\n",
       "      <th>g</th>\n",
       "      <th>r</th>\n",
       "      <th>i</th>\n",
       "      <th>z</th>\n",
       "      <th>redshift</th>\n",
       "      <th>specobjid</th>\n",
       "      <th>plate</th>\n",
       "      <th>mjd</th>\n",
       "      <th>fiberid</th>\n",
       "      <th>a</th>\n",
       "      <th>b</th>\n",
       "      <th>c</th>\n",
       "      <th>d</th>\n",
       "    </tr>\n",
       "  </thead>\n",
       "  <tbody>\n",
       "    <tr>\n",
       "      <th>0</th>\n",
       "      <td>1237645879551000764</td>\n",
       "      <td>348.841087</td>\n",
       "      <td>1.268802</td>\n",
       "      <td>25.92735</td>\n",
       "      <td>20.99570</td>\n",
       "      <td>19.24612</td>\n",
       "      <td>18.56461</td>\n",
       "      <td>18.43049</td>\n",
       "      <td>0.399651</td>\n",
       "      <td>4825695603672457216</td>\n",
       "      <td>4286</td>\n",
       "      <td>55499</td>\n",
       "      <td>322</td>\n",
       "      <td>1.74958</td>\n",
       "      <td>0.68151</td>\n",
       "      <td>0.13412</td>\n",
       "      <td>4.93165</td>\n",
       "    </tr>\n",
       "    <tr>\n",
       "      <th>1</th>\n",
       "      <td>1237645879551066262</td>\n",
       "      <td>348.902530</td>\n",
       "      <td>1.271886</td>\n",
       "      <td>19.38905</td>\n",
       "      <td>18.24496</td>\n",
       "      <td>17.58728</td>\n",
       "      <td>17.20807</td>\n",
       "      <td>16.90905</td>\n",
       "      <td>0.032125</td>\n",
       "      <td>430194949951088640</td>\n",
       "      <td>382</td>\n",
       "      <td>51816</td>\n",
       "      <td>368</td>\n",
       "      <td>0.65768</td>\n",
       "      <td>0.37921</td>\n",
       "      <td>0.29902</td>\n",
       "      <td>1.14409</td>\n",
       "    </tr>\n",
       "    <tr>\n",
       "      <th>2</th>\n",
       "      <td>1237645879562928144</td>\n",
       "      <td>16.004912</td>\n",
       "      <td>1.259423</td>\n",
       "      <td>21.50923</td>\n",
       "      <td>19.69340</td>\n",
       "      <td>18.47973</td>\n",
       "      <td>17.91998</td>\n",
       "      <td>17.55132</td>\n",
       "      <td>0.312048</td>\n",
       "      <td>754455784200366080</td>\n",
       "      <td>670</td>\n",
       "      <td>52520</td>\n",
       "      <td>374</td>\n",
       "      <td>1.21367</td>\n",
       "      <td>0.55975</td>\n",
       "      <td>0.36866</td>\n",
       "      <td>1.81583</td>\n",
       "    </tr>\n",
       "    <tr>\n",
       "      <th>3</th>\n",
       "      <td>1237645879562928258</td>\n",
       "      <td>16.020244</td>\n",
       "      <td>1.267667</td>\n",
       "      <td>20.96947</td>\n",
       "      <td>20.29136</td>\n",
       "      <td>19.36779</td>\n",
       "      <td>18.86387</td>\n",
       "      <td>18.45551</td>\n",
       "      <td>0.200468</td>\n",
       "      <td>754453860055017472</td>\n",
       "      <td>670</td>\n",
       "      <td>52520</td>\n",
       "      <td>367</td>\n",
       "      <td>0.92357</td>\n",
       "      <td>0.50392</td>\n",
       "      <td>0.40836</td>\n",
       "      <td>0.67811</td>\n",
       "    </tr>\n",
       "    <tr>\n",
       "      <th>4</th>\n",
       "      <td>1237645879562928805</td>\n",
       "      <td>16.026029</td>\n",
       "      <td>1.266772</td>\n",
       "      <td>25.27165</td>\n",
       "      <td>22.32081</td>\n",
       "      <td>21.33033</td>\n",
       "      <td>19.94852</td>\n",
       "      <td>19.47201</td>\n",
       "      <td>0.752645</td>\n",
       "      <td>4853831831466778624</td>\n",
       "      <td>4311</td>\n",
       "      <td>55506</td>\n",
       "      <td>281</td>\n",
       "      <td>0.99048</td>\n",
       "      <td>1.38181</td>\n",
       "      <td>0.47651</td>\n",
       "      <td>2.95084</td>\n",
       "    </tr>\n",
       "  </tbody>\n",
       "</table>\n",
       "</div>"
      ],
      "text/plain": [
       "                 objid          ra       dec         u         g         r  \\\n",
       "0  1237645879551000764  348.841087  1.268802  25.92735  20.99570  19.24612   \n",
       "1  1237645879551066262  348.902530  1.271886  19.38905  18.24496  17.58728   \n",
       "2  1237645879562928144   16.004912  1.259423  21.50923  19.69340  18.47973   \n",
       "3  1237645879562928258   16.020244  1.267667  20.96947  20.29136  19.36779   \n",
       "4  1237645879562928805   16.026029  1.266772  25.27165  22.32081  21.33033   \n",
       "\n",
       "          i         z  redshift            specobjid  plate    mjd  fiberid  \\\n",
       "0  18.56461  18.43049  0.399651  4825695603672457216   4286  55499      322   \n",
       "1  17.20807  16.90905  0.032125   430194949951088640    382  51816      368   \n",
       "2  17.91998  17.55132  0.312048   754455784200366080    670  52520      374   \n",
       "3  18.86387  18.45551  0.200468   754453860055017472    670  52520      367   \n",
       "4  19.94852  19.47201  0.752645  4853831831466778624   4311  55506      281   \n",
       "\n",
       "         a        b        c        d  \n",
       "0  1.74958  0.68151  0.13412  4.93165  \n",
       "1  0.65768  0.37921  0.29902  1.14409  \n",
       "2  1.21367  0.55975  0.36866  1.81583  \n",
       "3  0.92357  0.50392  0.40836  0.67811  \n",
       "4  0.99048  1.38181  0.47651  2.95084  "
      ]
     },
     "execution_count": 11,
     "metadata": {},
     "output_type": "execute_result"
    }
   ],
   "source": [
    "d= {'a': no_outliers_df['g'] - no_outliers_df['r'],\n",
    "    'b': no_outliers_df['r'] - no_outliers_df['i'],\n",
    "    'c': no_outliers_df['i'] - no_outliers_df['z'],\n",
    "    'd': no_outliers_df['u'] - no_outliers_df['g']\n",
    "   }\n",
    "add_columns_df = pd.DataFrame(d)\n",
    "add_columns_df.head()\n",
    "\n",
    "df = pd.concat([no_outliers_df, add_columns_df], axis = 1)\n",
    "\n",
    "df = df[(df['r'] < 25) & (df['b'] > -1) & (df['c'] < 2) & (df['c'] > -0.5)]\n",
    "df.head()"
   ]
  },
  {
   "cell_type": "markdown",
   "metadata": {},
   "source": [
    "Creates x, a dataframe with the columns of magnitude differences and one column of magnitudes (in this case it was u, but it could be anything). Also creates y, which is the redshift column"
   ]
  },
  {
   "cell_type": "code",
   "execution_count": 12,
   "metadata": {},
   "outputs": [
    {
     "data": {
      "text/html": [
       "<div>\n",
       "<style scoped>\n",
       "    .dataframe tbody tr th:only-of-type {\n",
       "        vertical-align: middle;\n",
       "    }\n",
       "\n",
       "    .dataframe tbody tr th {\n",
       "        vertical-align: top;\n",
       "    }\n",
       "\n",
       "    .dataframe thead th {\n",
       "        text-align: right;\n",
       "    }\n",
       "</style>\n",
       "<table border=\"1\" class=\"dataframe\">\n",
       "  <thead>\n",
       "    <tr style=\"text-align: right;\">\n",
       "      <th></th>\n",
       "      <th>u</th>\n",
       "      <th>a</th>\n",
       "      <th>b</th>\n",
       "      <th>c</th>\n",
       "      <th>d</th>\n",
       "    </tr>\n",
       "  </thead>\n",
       "  <tbody>\n",
       "    <tr>\n",
       "      <th>0</th>\n",
       "      <td>25.92735</td>\n",
       "      <td>1.74958</td>\n",
       "      <td>0.68151</td>\n",
       "      <td>0.13412</td>\n",
       "      <td>4.93165</td>\n",
       "    </tr>\n",
       "    <tr>\n",
       "      <th>1</th>\n",
       "      <td>19.38905</td>\n",
       "      <td>0.65768</td>\n",
       "      <td>0.37921</td>\n",
       "      <td>0.29902</td>\n",
       "      <td>1.14409</td>\n",
       "    </tr>\n",
       "    <tr>\n",
       "      <th>2</th>\n",
       "      <td>21.50923</td>\n",
       "      <td>1.21367</td>\n",
       "      <td>0.55975</td>\n",
       "      <td>0.36866</td>\n",
       "      <td>1.81583</td>\n",
       "    </tr>\n",
       "    <tr>\n",
       "      <th>3</th>\n",
       "      <td>20.96947</td>\n",
       "      <td>0.92357</td>\n",
       "      <td>0.50392</td>\n",
       "      <td>0.40836</td>\n",
       "      <td>0.67811</td>\n",
       "    </tr>\n",
       "    <tr>\n",
       "      <th>4</th>\n",
       "      <td>25.27165</td>\n",
       "      <td>0.99048</td>\n",
       "      <td>1.38181</td>\n",
       "      <td>0.47651</td>\n",
       "      <td>2.95084</td>\n",
       "    </tr>\n",
       "  </tbody>\n",
       "</table>\n",
       "</div>"
      ],
      "text/plain": [
       "          u        a        b        c        d\n",
       "0  25.92735  1.74958  0.68151  0.13412  4.93165\n",
       "1  19.38905  0.65768  0.37921  0.29902  1.14409\n",
       "2  21.50923  1.21367  0.55975  0.36866  1.81583\n",
       "3  20.96947  0.92357  0.50392  0.40836  0.67811\n",
       "4  25.27165  0.99048  1.38181  0.47651  2.95084"
      ]
     },
     "execution_count": 12,
     "metadata": {},
     "output_type": "execute_result"
    }
   ],
   "source": [
    "y = df['redshift']\n",
    "x = df.iloc[:,[3, 13, 14, 15, 16]]\n",
    "x.head()"
   ]
  },
  {
   "cell_type": "code",
   "execution_count": 13,
   "metadata": {},
   "outputs": [
    {
     "data": {
      "text/plain": [
       "(865, 5)"
      ]
     },
     "execution_count": 13,
     "metadata": {},
     "output_type": "execute_result"
    }
   ],
   "source": [
    "x.shape"
   ]
  },
  {
   "cell_type": "markdown",
   "metadata": {},
   "source": [
    "# Linear Regression"
   ]
  },
  {
   "cell_type": "markdown",
   "metadata": {},
   "source": [
    "Imports the linear model and fits it to x and y."
   ]
  },
  {
   "cell_type": "code",
   "execution_count": 14,
   "metadata": {},
   "outputs": [
    {
     "name": "stdout",
     "output_type": "stream",
     "text": [
      "[ 0.00321352  0.04744764  0.37333739  0.01887991 -0.04351328]\n",
      "0.0\n"
     ]
    }
   ],
   "source": [
    "from sklearn import linear_model\n",
    "reg = linear_model.LinearRegression(fit_intercept=False)\n",
    "reg.fit (x,y)\n",
    "print(reg.coef_)\n",
    "print(reg.intercept_)"
   ]
  },
  {
   "cell_type": "markdown",
   "metadata": {},
   "source": [
    "Defines a manual linear regression function."
   ]
  },
  {
   "cell_type": "code",
   "execution_count": 31,
   "metadata": {},
   "outputs": [],
   "source": [
    "def dumb_linreg(x, coef, intercept):\n",
    "    return x * coef + intercept"
   ]
  },
  {
   "cell_type": "markdown",
   "metadata": {},
   "source": [
    "Defines a function which returns 50 floats between the minimum and maximum of a column"
   ]
  },
  {
   "cell_type": "code",
   "execution_count": 213,
   "metadata": {},
   "outputs": [],
   "source": [
    "def x_for_plotting(dataframe, column):\n",
    "    out = numpy.linspace(min(dataframe[column]), max(dataframe[column]), 50)\n",
    "    return(out)"
   ]
  },
  {
   "cell_type": "markdown",
   "metadata": {},
   "source": [
    "Defines a chi square error function."
   ]
  },
  {
   "cell_type": "code",
   "execution_count": 33,
   "metadata": {},
   "outputs": [],
   "source": [
    "def chi_square_error(observed_y, predicted_y):\n",
    "    error = 0\n",
    "    observed_y_list = observed_y.tolist()\n",
    "    predicted_y_list = predicted_y.tolist()\n",
    "    for i in predicted_y_list:\n",
    "        error += ((observed_y_list[predicted_y_list.index(i)] - i)**2)/numpy.var(predicted_y)**2\n",
    "    print(error)"
   ]
  },
  {
   "cell_type": "markdown",
   "metadata": {},
   "source": [
    "Creates x_for_plotting_list, an array of all of the 50 floats for each column of x. Also creates y_for_plotting_list, which uses the manual linear regression function to predict y values based on x_for_plotting_list."
   ]
  },
  {
   "cell_type": "code",
   "execution_count": 34,
   "metadata": {},
   "outputs": [],
   "source": [
    "x_for_plotting_list = numpy.asarray([x_for_plotting('u'), x_for_plotting('a'), x_for_plotting('b'),\\\n",
    "                                    x_for_plotting('c'), x_for_plotting('d')])\n",
    "y_for_plotting_list = dumb_linreg(x_for_plotting_list.T, reg.coef_, reg.intercept_)"
   ]
  },
  {
   "cell_type": "markdown",
   "metadata": {},
   "source": [
    "Plots scatterplots for each column of x versus y, and also plots the line predicted by dumb_linreg. The problem with this is the terrible fit of the lines, even though theoretically it should work fine. It might also have something to do with the intercepts."
   ]
  },
  {
   "cell_type": "code",
   "execution_count": 42,
   "metadata": {},
   "outputs": [
    {
     "data": {
      "image/png": "[encoded data removed]",
      "text/plain": [
       "<Figure size 432x288 with 1 Axes>"
      ]
     },
     "metadata": {},
     "output_type": "display_data"
    },
    {
     "data": {
      "image/png": "[encoded data removed]",
      "text/plain": [
       "<Figure size 432x288 with 1 Axes>"
      ]
     },
     "metadata": {},
     "output_type": "display_data"
    },
    {
     "data": {
      "image/png": "[encoded data removed]",
      "text/plain": [
       "<Figure size 432x288 with 1 Axes>"
      ]
     },
     "metadata": {},
     "output_type": "display_data"
    },
    {
     "data": {
      "image/png": "[encoded data removed]",
      "text/plain": [
       "<Figure size 432x288 with 1 Axes>"
      ]
     },
     "metadata": {},
     "output_type": "display_data"
    },
    {
     "data": {
      "image/png": "[encoded data removed]",
      "text/plain": [
       "<Figure size 432x288 with 1 Axes>"
      ]
     },
     "metadata": {},
     "output_type": "display_data"
    }
   ],
   "source": [
    "x_names = ['u', 'a', 'b', 'c', 'd']\n",
    "for i in range(len(x_names)):\n",
    "    name = x_names[i]\n",
    "    plt.scatter(x[name], y, color='black',s=1, alpha=0.5)\n",
    "    x_oops = x_for_plotting_list[x_names.index(name)]\n",
    "    plt.plot(x_oops, dumb_linreg(x_oops, reg.coef_[i], reg.intercept_), color='blue', linewidth = 2)\n",
    "    plt.xlabel(name)\n",
    "    plt.ylabel(\"Redshift\")\n",
    "    plt.show()"
   ]
  },
  {
   "cell_type": "markdown",
   "metadata": {},
   "source": [
    "Calculates chi square error for this linear regression. The error is very large!"
   ]
  },
  {
   "cell_type": "code",
   "execution_count": 43,
   "metadata": {},
   "outputs": [
    {
     "name": "stdout",
     "output_type": "stream",
     "text": [
      "107263.56871313594\n"
     ]
    }
   ],
   "source": [
    "chi_square_error(y, dumb_linreg(x_oops, reg.coef_[i], reg.intercept_))"
   ]
  },
  {
   "cell_type": "markdown",
   "metadata": {},
   "source": [
    "# Numpy Linear Regression"
   ]
  },
  {
   "cell_type": "markdown",
   "metadata": {},
   "source": [
    "Creates an array composed of x with a row of 1s at the bottom.\n",
    "Result is like doing reg.fit on that array and y."
   ]
  },
  {
   "cell_type": "code",
   "execution_count": 275,
   "metadata": {},
   "outputs": [
    {
     "name": "stdout",
     "output_type": "stream",
     "text": [
      "(array([ 0.08413178, -0.04490562,  0.17049768,  0.10621348, -0.09540971,\n",
      "       -1.50258323]), array([19.88937118]), 6, array([661.17377807,  26.30489794,  13.7106843 ,   5.38794759,\n",
      "         4.201108  ,   1.57798011]))\n"
     ]
    },
    {
     "name": "stderr",
     "output_type": "stream",
     "text": [
      "/Users/marin/anaconda3/lib/python3.6/site-packages/ipykernel_launcher.py:3: FutureWarning: `rcond` parameter will change to the default of machine precision times ``max(M, N)`` where M and N are the input matrix dimensions.\n",
      "To use the future default and silence this warning we advise to pass `rcond=None`, to keep using the old, explicitly pass `rcond=-1`.\n",
      "  This is separate from the ipykernel package so we can avoid doing imports until\n"
     ]
    }
   ],
   "source": [
    "A = np.hstack([x, np.array([np.ones(len(x))]).T]).T\n",
    "a = A.T\n",
    "result = np.linalg.lstsq(a, y)\n",
    "print(result)"
   ]
  },
  {
   "cell_type": "markdown",
   "metadata": {},
   "source": [
    "Coefficients is the first element of the result array. It's an array of 5 coefficients, one for each column in x, and one intercept. Intercepts is the first element of the coefficients array, since there is one intercept for all 5 columns."
   ]
  },
  {
   "cell_type": "code",
   "execution_count": 265,
   "metadata": {},
   "outputs": [
    {
     "name": "stdout",
     "output_type": "stream",
     "text": [
      "[ 0.08413178 -0.04490562  0.17049768  0.10621348 -0.09540971 -1.50258323]\n",
      "0.08413178130500547\n",
      "(6,) (865, 5)\n"
     ]
    }
   ],
   "source": [
    "coefficients = result[0]\n",
    "print(coefficients)\n",
    "intercepts = result[0][0]\n",
    "print(intercepts)\n",
    "print(np.shape(coefficients), np.shape(x))"
   ]
  },
  {
   "cell_type": "markdown",
   "metadata": {},
   "source": [
    "np_x_for_plotting_list calls x_for_plotting on each column of a. This creates an array of 50 x values for each of the 5 graphs.\n",
    "np_x_for_graph adds a row of 1s on the bottom of np_x_for_plotting_list, so that it can pe inputted with coefficients to produce the dot product of y values. (a little confused on this)"
   ]
  },
  {
   "cell_type": "code",
   "execution_count": 266,
   "metadata": {},
   "outputs": [],
   "source": [
    "a = A\n",
    "np_x_for_plotting_list = np.array([x_for_plotting(a, 0), x_for_plotting(a, 1), x_for_plotting(a, 2), \\\n",
    "                          x_for_plotting(a, 3), x_for_plotting(a, 4)])\n",
    "\n",
    "np_x_for_graph = np.hstack([np_x_for_plotting_list.T, np.array([np.ones(len(np_x_for_plotting_list.T))]).T])"
   ]
  },
  {
   "cell_type": "code",
   "execution_count": 267,
   "metadata": {},
   "outputs": [
    {
     "name": "stdout",
     "output_type": "stream",
     "text": [
      "[[25.92735 19.38905 21.50923 ... 24.27124 23.24958 23.03607]\n",
      " [ 1.74958  0.65768  1.21367 ...  1.8799   1.82523  1.99001]\n",
      " [ 0.68151  0.37921  0.55975 ...  0.63563  0.97555  1.07223]\n",
      " [ 0.13412  0.29902  0.36866 ...  0.42307  0.40981  0.20214]\n",
      " [ 4.93165  1.14409  1.81583 ...  2.88699  1.21758  0.3745 ]\n",
      " [ 1.       1.       1.      ...  1.       1.       1.     ]]\n"
     ]
    }
   ],
   "source": [
    "print(a)"
   ]
  },
  {
   "cell_type": "markdown",
   "metadata": {},
   "source": [
    "y_for_graph takes the dot product of coefficients and np_x_for_graph.T, which produces the predicted y value."
   ]
  },
  {
   "cell_type": "code",
   "execution_count": 268,
   "metadata": {},
   "outputs": [
    {
     "name": "stdout",
     "output_type": "stream",
     "text": [
      "(6, 50) (6,)\n"
     ]
    }
   ],
   "source": [
    "y_for_graph = np.dot(coefficients, np_x_for_graph.T) \n",
    "print(np.shape(np_x_for_graph.T), np.shape(coefficients))"
   ]
  },
  {
   "cell_type": "markdown",
   "metadata": {},
   "source": [
    "chi_square_error_list is a list of each chi square error of each graph.\n",
    "plt.scatter plots each column of x and the redshift.\n",
    "plt.plot plots a line where the x values are an element in np_x_for_graph.T, and the y values are the array y_for_graph."
   ]
  },
  {
   "cell_type": "code",
   "execution_count": 276,
   "metadata": {},
   "outputs": [
    {
     "data": {
      "image/png": "[encoded data removed]",
      "text/plain": [
       "<Figure size 432x288 with 1 Axes>"
      ]
     },
     "metadata": {},
     "output_type": "display_data"
    },
    {
     "name": "stdout",
     "output_type": "stream",
     "text": [
      "31853.045029213175\n",
      "None\n"
     ]
    },
    {
     "data": {
      "image/png": "[encoded data removed]",
      "text/plain": [
       "<Figure size 432x288 with 1 Axes>"
      ]
     },
     "metadata": {},
     "output_type": "display_data"
    },
    {
     "name": "stdout",
     "output_type": "stream",
     "text": [
      "31853.045029213175\n",
      "None\n"
     ]
    },
    {
     "data": {
      "image/png": "[encoded data removed]",
      "text/plain": [
       "<Figure size 432x288 with 1 Axes>"
      ]
     },
     "metadata": {},
     "output_type": "display_data"
    },
    {
     "name": "stdout",
     "output_type": "stream",
     "text": [
      "31853.045029213175\n",
      "None\n"
     ]
    },
    {
     "data": {
      "image/png": "[encoded data removed]",
      "text/plain": [
       "<Figure size 432x288 with 1 Axes>"
      ]
     },
     "metadata": {},
     "output_type": "display_data"
    },
    {
     "name": "stdout",
     "output_type": "stream",
     "text": [
      "31853.045029213175\n",
      "None\n"
     ]
    },
    {
     "data": {
      "image/png": "[encoded data removed]",
      "text/plain": [
       "<Figure size 432x288 with 1 Axes>"
      ]
     },
     "metadata": {},
     "output_type": "display_data"
    },
    {
     "name": "stdout",
     "output_type": "stream",
     "text": [
      "31853.045029213175\n",
      "None\n"
     ]
    }
   ],
   "source": [
    "chi_square_error_list = []\n",
    "for i in range(len(x_names)):\n",
    "    name = x_names[i]\n",
    "    \n",
    "    #intermediate = np_x_for_graph.T[i] * coefficients[i]# + coefficients[-1]\n",
    "    \n",
    "    plt.scatter(x[name], y, color='black',s=1, alpha=0.5)\n",
    "\n",
    "    plt.plot(np_x_for_graph.T[i], y_for_graph, color='blue', linewidth = 2)\n",
    "    plt.xlabel(name)\n",
    "    plt.ylabel(\"Redshift\")\n",
    "    plt.show()\n",
    "    \n",
    "    print(chi_square_error(y, np.dot(coefficients, A)))"
   ]
  },
  {
   "cell_type": "code",
   "execution_count": null,
   "metadata": {},
   "outputs": [],
   "source": []
  }
 ],
 "metadata": {
  "kernelspec": {
   "display_name": "Python 3",
   "language": "python",
   "name": "python3"
  },
  "language_info": {
   "codemirror_mode": {
    "name": "ipython",
    "version": 3
   },
   "file_extension": ".py",
   "mimetype": "text/x-python",
   "name": "python",
   "nbconvert_exporter": "python",
   "pygments_lexer": "ipython3",
   "version": "3.6.4"
  }
 },
 "nbformat": 4,
 "nbformat_minor": 2
}
