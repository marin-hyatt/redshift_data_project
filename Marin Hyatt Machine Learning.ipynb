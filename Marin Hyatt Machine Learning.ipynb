{
 "cells": [
  {
   "cell_type": "markdown",
   "metadata": {},
   "source": [
    "Import numpy, pandas, and matplotlib"
   ]
  },
  {
   "cell_type": "code",
   "execution_count": 3,
   "metadata": {},
   "outputs": [],
   "source": [
    "import pandas as pd\n",
    "import numpy\n",
    "import matplotlib.pyplot as plt"
   ]
  },
  {
   "cell_type": "markdown",
   "metadata": {},
   "source": [
    "Use numpy to load the data file, then store the data in a variable"
   ]
  },
  {
   "cell_type": "code",
   "execution_count": 4,
   "metadata": {},
   "outputs": [
    {
     "ename": "ValueError",
     "evalue": "could not convert string to float: 'oon1237645879577739681'",
     "output_type": "error",
     "traceback": [
      "\u001b[0;31m---------------------------------------------------------------------------\u001b[0m",
      "\u001b[0;31mValueError\u001b[0m                                Traceback (most recent call last)",
      "\u001b[0;32m<ipython-input-4-882c4c8c401c>\u001b[0m in \u001b[0;36m<module>\u001b[0;34m()\u001b[0m\n\u001b[0;32m----> 1\u001b[0;31m \u001b[0mdata\u001b[0m \u001b[0;34m=\u001b[0m \u001b[0mnumpy\u001b[0m\u001b[0;34m.\u001b[0m\u001b[0mloadtxt\u001b[0m\u001b[0;34m(\u001b[0m\u001b[0;34m\"Skyserver_Spectro2_13_2018 10_41_13 PM.csv\"\u001b[0m\u001b[0;34m,\u001b[0m \u001b[0mskiprows\u001b[0m \u001b[0;34m=\u001b[0m \u001b[0;36m2\u001b[0m\u001b[0;34m,\u001b[0m \u001b[0mdelimiter\u001b[0m \u001b[0;34m=\u001b[0m \u001b[0;34m\",\"\u001b[0m\u001b[0;34m)\u001b[0m\u001b[0;34m\u001b[0m\u001b[0m\n\u001b[0m",
      "\u001b[0;32m~/anaconda3/lib/python3.6/site-packages/numpy/lib/npyio.py\u001b[0m in \u001b[0;36mloadtxt\u001b[0;34m(fname, dtype, comments, delimiter, converters, skiprows, usecols, unpack, ndmin, encoding)\u001b[0m\n\u001b[1;32m   1090\u001b[0m         \u001b[0;31m# converting the data\u001b[0m\u001b[0;34m\u001b[0m\u001b[0;34m\u001b[0m\u001b[0m\n\u001b[1;32m   1091\u001b[0m         \u001b[0mX\u001b[0m \u001b[0;34m=\u001b[0m \u001b[0;32mNone\u001b[0m\u001b[0;34m\u001b[0m\u001b[0m\n\u001b[0;32m-> 1092\u001b[0;31m         \u001b[0;32mfor\u001b[0m \u001b[0mx\u001b[0m \u001b[0;32min\u001b[0m \u001b[0mread_data\u001b[0m\u001b[0;34m(\u001b[0m\u001b[0m_loadtxt_chunksize\u001b[0m\u001b[0;34m)\u001b[0m\u001b[0;34m:\u001b[0m\u001b[0;34m\u001b[0m\u001b[0m\n\u001b[0m\u001b[1;32m   1093\u001b[0m             \u001b[0;32mif\u001b[0m \u001b[0mX\u001b[0m \u001b[0;32mis\u001b[0m \u001b[0;32mNone\u001b[0m\u001b[0;34m:\u001b[0m\u001b[0;34m\u001b[0m\u001b[0m\n\u001b[1;32m   1094\u001b[0m                 \u001b[0mX\u001b[0m \u001b[0;34m=\u001b[0m \u001b[0mnp\u001b[0m\u001b[0;34m.\u001b[0m\u001b[0marray\u001b[0m\u001b[0;34m(\u001b[0m\u001b[0mx\u001b[0m\u001b[0;34m,\u001b[0m \u001b[0mdtype\u001b[0m\u001b[0;34m)\u001b[0m\u001b[0;34m\u001b[0m\u001b[0m\n",
      "\u001b[0;32m~/anaconda3/lib/python3.6/site-packages/numpy/lib/npyio.py\u001b[0m in \u001b[0;36mread_data\u001b[0;34m(chunk_size)\u001b[0m\n\u001b[1;32m   1017\u001b[0m \u001b[0;34m\u001b[0m\u001b[0m\n\u001b[1;32m   1018\u001b[0m             \u001b[0;31m# Convert each value according to its column and store\u001b[0m\u001b[0;34m\u001b[0m\u001b[0;34m\u001b[0m\u001b[0m\n\u001b[0;32m-> 1019\u001b[0;31m             \u001b[0mitems\u001b[0m \u001b[0;34m=\u001b[0m \u001b[0;34m[\u001b[0m\u001b[0mconv\u001b[0m\u001b[0;34m(\u001b[0m\u001b[0mval\u001b[0m\u001b[0;34m)\u001b[0m \u001b[0;32mfor\u001b[0m \u001b[0;34m(\u001b[0m\u001b[0mconv\u001b[0m\u001b[0;34m,\u001b[0m \u001b[0mval\u001b[0m\u001b[0;34m)\u001b[0m \u001b[0;32min\u001b[0m \u001b[0mzip\u001b[0m\u001b[0;34m(\u001b[0m\u001b[0mconverters\u001b[0m\u001b[0;34m,\u001b[0m \u001b[0mvals\u001b[0m\u001b[0;34m)\u001b[0m\u001b[0;34m]\u001b[0m\u001b[0;34m\u001b[0m\u001b[0m\n\u001b[0m\u001b[1;32m   1020\u001b[0m \u001b[0;34m\u001b[0m\u001b[0m\n\u001b[1;32m   1021\u001b[0m             \u001b[0;31m# Then pack it according to the dtype's nesting\u001b[0m\u001b[0;34m\u001b[0m\u001b[0;34m\u001b[0m\u001b[0m\n",
      "\u001b[0;32m~/anaconda3/lib/python3.6/site-packages/numpy/lib/npyio.py\u001b[0m in \u001b[0;36m<listcomp>\u001b[0;34m(.0)\u001b[0m\n\u001b[1;32m   1017\u001b[0m \u001b[0;34m\u001b[0m\u001b[0m\n\u001b[1;32m   1018\u001b[0m             \u001b[0;31m# Convert each value according to its column and store\u001b[0m\u001b[0;34m\u001b[0m\u001b[0;34m\u001b[0m\u001b[0m\n\u001b[0;32m-> 1019\u001b[0;31m             \u001b[0mitems\u001b[0m \u001b[0;34m=\u001b[0m \u001b[0;34m[\u001b[0m\u001b[0mconv\u001b[0m\u001b[0;34m(\u001b[0m\u001b[0mval\u001b[0m\u001b[0;34m)\u001b[0m \u001b[0;32mfor\u001b[0m \u001b[0;34m(\u001b[0m\u001b[0mconv\u001b[0m\u001b[0;34m,\u001b[0m \u001b[0mval\u001b[0m\u001b[0;34m)\u001b[0m \u001b[0;32min\u001b[0m \u001b[0mzip\u001b[0m\u001b[0;34m(\u001b[0m\u001b[0mconverters\u001b[0m\u001b[0;34m,\u001b[0m \u001b[0mvals\u001b[0m\u001b[0;34m)\u001b[0m\u001b[0;34m]\u001b[0m\u001b[0;34m\u001b[0m\u001b[0m\n\u001b[0m\u001b[1;32m   1020\u001b[0m \u001b[0;34m\u001b[0m\u001b[0m\n\u001b[1;32m   1021\u001b[0m             \u001b[0;31m# Then pack it according to the dtype's nesting\u001b[0m\u001b[0;34m\u001b[0m\u001b[0;34m\u001b[0m\u001b[0m\n",
      "\u001b[0;32m~/anaconda3/lib/python3.6/site-packages/numpy/lib/npyio.py\u001b[0m in \u001b[0;36mfloatconv\u001b[0;34m(x)\u001b[0m\n\u001b[1;32m    736\u001b[0m         \u001b[0;32mif\u001b[0m \u001b[0;34m'0x'\u001b[0m \u001b[0;32min\u001b[0m \u001b[0mx\u001b[0m\u001b[0;34m:\u001b[0m\u001b[0;34m\u001b[0m\u001b[0m\n\u001b[1;32m    737\u001b[0m             \u001b[0;32mreturn\u001b[0m \u001b[0mfloat\u001b[0m\u001b[0;34m.\u001b[0m\u001b[0mfromhex\u001b[0m\u001b[0;34m(\u001b[0m\u001b[0mx\u001b[0m\u001b[0;34m)\u001b[0m\u001b[0;34m\u001b[0m\u001b[0m\n\u001b[0;32m--> 738\u001b[0;31m         \u001b[0;32mreturn\u001b[0m \u001b[0mfloat\u001b[0m\u001b[0;34m(\u001b[0m\u001b[0mx\u001b[0m\u001b[0;34m)\u001b[0m\u001b[0;34m\u001b[0m\u001b[0m\n\u001b[0m\u001b[1;32m    739\u001b[0m \u001b[0;34m\u001b[0m\u001b[0m\n\u001b[1;32m    740\u001b[0m     \u001b[0mtyp\u001b[0m \u001b[0;34m=\u001b[0m \u001b[0mdtype\u001b[0m\u001b[0;34m.\u001b[0m\u001b[0mtype\u001b[0m\u001b[0;34m\u001b[0m\u001b[0m\n",
      "\u001b[0;31mValueError\u001b[0m: could not convert string to float: 'oon1237645879577739681'"
     ]
    }
   ],
   "source": [
    "data = numpy.loadtxt(\"Skyserver_Spectro2_13_2018 10_41_13 PM.csv\", skiprows = 2, delimiter = \",\")"
   ]
  },
  {
   "cell_type": "markdown",
   "metadata": {},
   "source": [
    "Store names of colums in list names"
   ]
  },
  {
   "cell_type": "code",
   "execution_count": null,
   "metadata": {},
   "outputs": [],
   "source": [
    "names = numpy.loadtxt(\"Skyserver_Spectro2_13_2018 10_41_13 PM.csv\", dtype=str, skiprows = 1, delimiter = \",\")[0]"
   ]
  },
  {
   "cell_type": "markdown",
   "metadata": {},
   "source": [
    "Create a dataframe from the csv file."
   ]
  },
  {
   "cell_type": "code",
   "execution_count": null,
   "metadata": {},
   "outputs": [],
   "source": [
    "df = pd.read_csv(\"/Users/marin/machine/redshift_data_project/Skyserver_Spectro2_13_2018 10_41_13 PM.csv\", \\\n",
    "                 delimiter = \",\", skiprows=1)\n",
    "df.head()"
   ]
  },
  {
   "cell_type": "markdown",
   "metadata": {},
   "source": [
    "Plots a histogram for every value in each column"
   ]
  },
  {
   "cell_type": "code",
   "execution_count": null,
   "metadata": {
    "scrolled": false
   },
   "outputs": [],
   "source": [
    "plt.rcParams.update(plt.rcParamsDefault)\n",
    "%matplotlib inline\n",
    "for name in ['u', 'g', 'r', 'i', 'z', 'redshift']:\n",
    "    print(df['objid'][df[name] == 0.])\n",
    "    print(df['objid'][df[name] == -9999])\n",
    "    plt.hist(df[name], bins=50)\n",
    "    plt.xlabel(name)\n",
    "    plt.show()"
   ]
  },
  {
   "cell_type": "markdown",
   "metadata": {},
   "source": [
    "Filters out values of -9999 and 0 from columns, leaving only actual data"
   ]
  },
  {
   "cell_type": "code",
   "execution_count": null,
   "metadata": {
    "scrolled": true
   },
   "outputs": [],
   "source": [
    "df_filtered = df[(df['i'] != -9999.0) & (df['z'] != -9999.0) & (df['redshift'] != 0.00)]\n",
    "df_filtered.head()"
   ]
  },
  {
   "cell_type": "code",
   "execution_count": null,
   "metadata": {},
   "outputs": [],
   "source": [
    "print(names)"
   ]
  },
  {
   "cell_type": "markdown",
   "metadata": {},
   "source": [
    "Create a variable y, where y is the redshift. y is a vector."
   ]
  },
  {
   "cell_type": "code",
   "execution_count": null,
   "metadata": {},
   "outputs": [],
   "source": [
    "y = data.T[8]"
   ]
  },
  {
   "cell_type": "markdown",
   "metadata": {},
   "source": [
    "Create a variable x, where x is the values that are obtained when astrophysicists try to determine the redshift with the \"colored glasses\". x is a 4 by 1000 matrix."
   ]
  },
  {
   "cell_type": "code",
   "execution_count": null,
   "metadata": {},
   "outputs": [],
   "source": [
    "x = data.T[3:8]"
   ]
  },
  {
   "cell_type": "markdown",
   "metadata": {},
   "source": [
    "Create a variable, x_rot, which is x transposed. A transposed matrix is one where the first row becomes the first column, second row becomes the second column, etc."
   ]
  },
  {
   "cell_type": "code",
   "execution_count": null,
   "metadata": {},
   "outputs": [],
   "source": [
    "x_rot = x.T"
   ]
  },
  {
   "cell_type": "markdown",
   "metadata": {},
   "source": [
    "Creates equivalents to y and x_rot using the filtered dataframe instead."
   ]
  },
  {
   "cell_type": "code",
   "execution_count": null,
   "metadata": {},
   "outputs": [],
   "source": [
    "filtered_y = df_filtered['redshift']\n",
    "filtered_x = df_filtered.iloc[:,3:8]\n",
    "filtered_x.head()"
   ]
  },
  {
   "cell_type": "markdown",
   "metadata": {},
   "source": [
    "Calls reg.fit on filtered_x and filtered_y, then uses reg.predict on filtered_x."
   ]
  },
  {
   "cell_type": "markdown",
   "metadata": {},
   "source": [
    "reg.fit takes two parameters: x_rot and y. x_rot is the array of training data and y is the array of target values. reg.fit creates an equation that fits most of the data points. It does this by finding b, m in\n",
    "\n",
    "$y_{obs, i} = m \\cdot a_{i} + b + \\sigma_{i} = y_{pred, i} + \\sigma_{i}$\n",
    "by minimizing $\\chi^{2}$ when using all $i=1, ...,N$ for N galaxies\n",
    "\n",
    "reg.fit specifically passes in y for $y_{obs, i}$ and x_rot for $a_{i}$, which leaves only m and b (plus the error value). m is a vector and b and $\\sigma_{i}$ are scalars (because $y_{obs,i}$ is a scalar)\n",
    "\n",
    "$y_{obs, i} = m \\cdot a_{i} + b + \\sigma_{i}$\n",
    "\n",
    "It leaves the job of actually plugging in values for $a_{i}$ and solving for $y_{pred, i}$ to reg.predict. "
   ]
  },
  {
   "cell_type": "markdown",
   "metadata": {},
   "source": [
    "filtered_y_for_graph is taking the dot product of m and the array of x values. This will create an array of y values that have the slope of the best fit line."
   ]
  },
  {
   "cell_type": "code",
   "execution_count": null,
   "metadata": {},
   "outputs": [],
   "source": [
    "from sklearn import linear_model\n",
    "reg.fit (filtered_x,filtered_y)\n",
    "filtered_y_for_graph = reg.predict(filtered_x)"
   ]
  },
  {
   "cell_type": "markdown",
   "metadata": {},
   "source": [
    "Coefficients is a vector with 5 elements because $a_{i}$ has five dimensions, and reg.fit calculates m for all five. This also works out so that $y_{obs,i}$ is a scalar. reg.intercept represents b in the equation, and there is only one value because b is a scalar."
   ]
  },
  {
   "cell_type": "code",
   "execution_count": null,
   "metadata": {},
   "outputs": [],
   "source": [
    "coefficients = (reg.coef_)\n",
    "print(coefficients)\n",
    "print(reg.intercept_)"
   ]
  },
  {
   "cell_type": "markdown",
   "metadata": {},
   "source": [
    "Create a list, filtered_x_list, with the minimum and maximum values for each value (u, g, r, i, z) out of the 1000 given. This is to create a range of x values for plotting the best fit line (since filtered_y_for_graph is only y values, it needs corresponding x values)."
   ]
  },
  {
   "cell_type": "code",
   "execution_count": null,
   "metadata": {},
   "outputs": [],
   "source": [
    "filtered_x_list = []\n",
    "for column in filtered_x:\n",
    "    filtered_x_list.append(min(filtered_x[column]))\n",
    "    filtered_x_list.append(max(filtered_x[column]))\n",
    "print(filtered_x_list)"
   ]
  },
  {
   "cell_type": "markdown",
   "metadata": {},
   "source": [
    "one_filtered_x_for_plotting is an array consisting of 4 evenly spaced numbers from the minimum value in filtered_x_list to the maximum value in filtered_x_list. This is to create a range of x values to go with the y values so that a line can be made.\n",
    "filtered_x_for_plotting is a 2d array with five 4-element arrays inside, one for each \"filter\" (u,g,r,i,z). Theoretically this should be done using the actual values. This will be fixed!\n",
    "filtered_y_for_grid uses reg.predict. reg.predict takes the trasnposed matrix of x_for_plotting, and for each one out of five, takes the dot product of m and the array of x values in that particular filter. It returns five arrays of y values, so there are five graphs."
   ]
  },
  {
   "cell_type": "code",
   "execution_count": null,
   "metadata": {},
   "outputs": [],
   "source": [
    "one_filtered_x_for_plotting = numpy.linspace(min(filtered_x_list), max(filtered_x_list), 5)\n",
    "filtered_x_for_plotting = numpy.asarray([one_filtered_x_for_plotting, one_filtered_x_for_plotting, \\\n",
    "                                         one_filtered_x_for_plotting, one_filtered_x_for_plotting, \\\n",
    "                                         one_filtered_x_for_plotting])\n",
    "\n",
    "filtered_y_for_grid = reg.predict(filtered_x_for_plotting.T)\n",
    "\n",
    "for i in range(5):\n",
    "    plt.scatter(filtered_x.iloc[:,i], filtered_y, color='black')\n",
    "    plt.plot(filtered_x_for_plotting[i], filtered_y_for_grid,  color='blue', linewidth = 3)\n",
    "    plt.xlabel(\"Magnitude\")\n",
    "    plt.ylabel(\"Redshift\")\n",
    "    plt.show()"
   ]
  },
  {
   "cell_type": "markdown",
   "metadata": {},
   "source": [
    "The function chi_square_error calculates the goodness of fit using the chi-squared test, which is the sum of all of the predicted values minus the observed values squared, then divided by the predicted values."
   ]
  },
  {
   "cell_type": "code",
   "execution_count": null,
   "metadata": {},
   "outputs": [],
   "source": [
    "def chi_square_error(observed_y, predicted_y):\n",
    "    error = 0\n",
    "    observed_y_list = observed_y.tolist()\n",
    "    predicted_y_list = predicted_y.tolist()\n",
    "    for i in predicted_y_list:\n",
    "        error += ((observed_y_list[predicted_y_list.index(i)] - i)**2)/i\n",
    "    print(error)\n",
    "\n",
    "chi_square_error(filtered_y, filtered_y_for_grid)"
   ]
  },
  {
   "cell_type": "markdown",
   "metadata": {},
   "source": [
    "A plot of the error value versus the numer of y values with the error value. This plot shows that there are a lot of points with very little error value while there are a few points with a large error value."
   ]
  },
  {
   "cell_type": "code",
   "execution_count": null,
   "metadata": {},
   "outputs": [],
   "source": [
    "error = numpy.subtract(filtered_y, filtered_y_for_graph)\n",
    "plt.hist(error, range = [-1, 1], bins=50, color='blue')\n",
    "plt.xlabel('Error value')\n",
    "plt.ylabel('Number of y points with this error value')\n",
    "plt.show()"
   ]
  },
  {
   "cell_type": "markdown",
   "metadata": {},
   "source": [
    "A plot of magnitude versus error value. This plot looks similar to the actual plot of magnitude versus redshift, which is a property of error graphs. "
   ]
  },
  {
   "cell_type": "code",
   "execution_count": null,
   "metadata": {},
   "outputs": [],
   "source": [
    "plt.scatter(filtered_x.iloc[:,0], error, color='black', s=1, alpha=0.5)\n",
    "plt.xlabel('Magnitude')\n",
    "plt.ylabel('Error value')\n",
    "plt.show()"
   ]
  },
  {
   "cell_type": "markdown",
   "metadata": {},
   "source": [
    "A plot of redshift versus error value. There are many redshift values at 0.0 or very close, because of the placeholder values. "
   ]
  },
  {
   "cell_type": "code",
   "execution_count": null,
   "metadata": {},
   "outputs": [],
   "source": [
    "plt.scatter(filtered_y, error, color='black', s=1, alpha=0.5)\n",
    "plt.xlim(-0.1, 1)\n",
    "plt.ylim(-1,1)\n",
    "plt.xlabel('Redshift')\n",
    "plt.ylabel('Error value')\n",
    "plt.show()"
   ]
  },
  {
   "cell_type": "markdown",
   "metadata": {
    "collapsed": true
   },
   "source": [
    "# Questions\n",
    "Why don't we use the equation we got from reg.fit in the plot (versus reg.predict)?\n",
    "What's the point of making x_for_plotting be 2 dimensional if we're only taking the first value in the plot? Ans: we can't plot stuff in 5 dimensions\n",
    "Why do we need to transpose x_for_plotting when we predict values? Ans: Some methods are inconsistent and require transposing x\n",
    "Why do we create x_list with the minimum and maximum values for each variable? Ans: to create the x values for x_for_plotting. Since some x values are -9999 because they are placeholders, we can't have that be the minimum range for the graph so we use 15.\n",
    "Why do we only take the first element in x when making the scatterplot? Isn't that equivalent to only using the variable u to plot the points? How can we use all 4 variables (wasn't that the point in the first place)? Ans: We can't plot stuff in 5 dimensions. We are only using u (the magnitude) as the x value."
   ]
  },
  {
   "cell_type": "code",
   "execution_count": null,
   "metadata": {},
   "outputs": [],
   "source": []
  }
 ],
 "metadata": {
  "kernelspec": {
   "display_name": "Python 3",
   "language": "python",
   "name": "python3"
  },
  "language_info": {
   "codemirror_mode": {
    "name": "ipython",
    "version": 3
   },
   "file_extension": ".py",
   "mimetype": "text/x-python",
   "name": "python",
   "nbconvert_exporter": "python",
   "pygments_lexer": "ipython3",
   "version": "3.6.4"
  }
 },
 "nbformat": 4,
 "nbformat_minor": 1
}
