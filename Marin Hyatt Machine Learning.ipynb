{
 "cells": [
  {
   "cell_type": "markdown",
   "metadata": {},
   "source": [
    "Import numpy, pandas, and matplotlib"
   ]
  },
  {
   "cell_type": "code",
   "execution_count": 10,
   "metadata": {},
   "outputs": [],
   "source": [
    "import pandas as pd\n",
    "import numpy\n",
    "import matplotlib.pyplot as plt\n",
    "from scipy import stats"
   ]
  },
  {
   "cell_type": "markdown",
   "metadata": {},
   "source": [
    "Use numpy to load the data file, then store the data in a variable"
   ]
  },
  {
   "cell_type": "code",
   "execution_count": 3,
   "metadata": {},
   "outputs": [],
   "source": [
    "data = numpy.loadtxt(\"Skyserver_Spectro2_13_2018 10_41_13 PM.csv\", skiprows = 2, delimiter = \",\")"
   ]
  },
  {
   "cell_type": "markdown",
   "metadata": {},
   "source": [
    "Store names of colums in list names"
   ]
  },
  {
   "cell_type": "code",
   "execution_count": 4,
   "metadata": {},
   "outputs": [],
   "source": [
    "names = numpy.loadtxt(\"Skyserver_Spectro2_13_2018 10_41_13 PM.csv\", dtype=str, skiprows = 1, delimiter = \",\")[0]"
   ]
  },
  {
   "cell_type": "markdown",
   "metadata": {},
   "source": [
    "Create a dataframe from the csv file."
   ]
  },
  {
   "cell_type": "code",
   "execution_count": 5,
   "metadata": {},
   "outputs": [
    {
     "data": {
      "text/html": [
       "<div>\n",
       "<style scoped>\n",
       "    .dataframe tbody tr th:only-of-type {\n",
       "        vertical-align: middle;\n",
       "    }\n",
       "\n",
       "    .dataframe tbody tr th {\n",
       "        vertical-align: top;\n",
       "    }\n",
       "\n",
       "    .dataframe thead th {\n",
       "        text-align: right;\n",
       "    }\n",
       "</style>\n",
       "<table border=\"1\" class=\"dataframe\">\n",
       "  <thead>\n",
       "    <tr style=\"text-align: right;\">\n",
       "      <th></th>\n",
       "      <th>objid</th>\n",
       "      <th>ra</th>\n",
       "      <th>dec</th>\n",
       "      <th>u</th>\n",
       "      <th>g</th>\n",
       "      <th>r</th>\n",
       "      <th>i</th>\n",
       "      <th>z</th>\n",
       "      <th>redshift</th>\n",
       "      <th>specobjid</th>\n",
       "      <th>plate</th>\n",
       "      <th>mjd</th>\n",
       "      <th>fiberid</th>\n",
       "    </tr>\n",
       "  </thead>\n",
       "  <tbody>\n",
       "    <tr>\n",
       "      <th>0</th>\n",
       "      <td>1237645879551000764</td>\n",
       "      <td>348.841087</td>\n",
       "      <td>1.268802</td>\n",
       "      <td>25.92735</td>\n",
       "      <td>20.99570</td>\n",
       "      <td>19.24612</td>\n",
       "      <td>18.56461</td>\n",
       "      <td>18.43049</td>\n",
       "      <td>0.399651</td>\n",
       "      <td>4825695603672457216</td>\n",
       "      <td>4286</td>\n",
       "      <td>55499</td>\n",
       "      <td>322</td>\n",
       "    </tr>\n",
       "    <tr>\n",
       "      <th>1</th>\n",
       "      <td>1237645879551066262</td>\n",
       "      <td>348.902530</td>\n",
       "      <td>1.271886</td>\n",
       "      <td>19.38905</td>\n",
       "      <td>18.24496</td>\n",
       "      <td>17.58728</td>\n",
       "      <td>17.20807</td>\n",
       "      <td>16.90905</td>\n",
       "      <td>0.032125</td>\n",
       "      <td>430194949951088640</td>\n",
       "      <td>382</td>\n",
       "      <td>51816</td>\n",
       "      <td>368</td>\n",
       "    </tr>\n",
       "    <tr>\n",
       "      <th>2</th>\n",
       "      <td>1237645879562928144</td>\n",
       "      <td>16.004912</td>\n",
       "      <td>1.259423</td>\n",
       "      <td>21.50923</td>\n",
       "      <td>19.69340</td>\n",
       "      <td>18.47973</td>\n",
       "      <td>17.91998</td>\n",
       "      <td>17.55132</td>\n",
       "      <td>0.312048</td>\n",
       "      <td>754455784200366080</td>\n",
       "      <td>670</td>\n",
       "      <td>52520</td>\n",
       "      <td>374</td>\n",
       "    </tr>\n",
       "    <tr>\n",
       "      <th>3</th>\n",
       "      <td>1237645879562928258</td>\n",
       "      <td>16.020244</td>\n",
       "      <td>1.267667</td>\n",
       "      <td>20.96947</td>\n",
       "      <td>20.29136</td>\n",
       "      <td>19.36779</td>\n",
       "      <td>18.86387</td>\n",
       "      <td>18.45551</td>\n",
       "      <td>0.200468</td>\n",
       "      <td>754453860055017472</td>\n",
       "      <td>670</td>\n",
       "      <td>52520</td>\n",
       "      <td>367</td>\n",
       "    </tr>\n",
       "    <tr>\n",
       "      <th>4</th>\n",
       "      <td>1237645879562928805</td>\n",
       "      <td>16.026029</td>\n",
       "      <td>1.266772</td>\n",
       "      <td>25.27165</td>\n",
       "      <td>22.32081</td>\n",
       "      <td>21.33033</td>\n",
       "      <td>19.94852</td>\n",
       "      <td>19.47201</td>\n",
       "      <td>0.752645</td>\n",
       "      <td>4853831831466778624</td>\n",
       "      <td>4311</td>\n",
       "      <td>55506</td>\n",
       "      <td>281</td>\n",
       "    </tr>\n",
       "  </tbody>\n",
       "</table>\n",
       "</div>"
      ],
      "text/plain": [
       "                 objid          ra       dec         u         g         r  \\\n",
       "0  1237645879551000764  348.841087  1.268802  25.92735  20.99570  19.24612   \n",
       "1  1237645879551066262  348.902530  1.271886  19.38905  18.24496  17.58728   \n",
       "2  1237645879562928144   16.004912  1.259423  21.50923  19.69340  18.47973   \n",
       "3  1237645879562928258   16.020244  1.267667  20.96947  20.29136  19.36779   \n",
       "4  1237645879562928805   16.026029  1.266772  25.27165  22.32081  21.33033   \n",
       "\n",
       "          i         z  redshift            specobjid  plate    mjd  fiberid  \n",
       "0  18.56461  18.43049  0.399651  4825695603672457216   4286  55499      322  \n",
       "1  17.20807  16.90905  0.032125   430194949951088640    382  51816      368  \n",
       "2  17.91998  17.55132  0.312048   754455784200366080    670  52520      374  \n",
       "3  18.86387  18.45551  0.200468   754453860055017472    670  52520      367  \n",
       "4  19.94852  19.47201  0.752645  4853831831466778624   4311  55506      281  "
      ]
     },
     "execution_count": 5,
     "metadata": {},
     "output_type": "execute_result"
    }
   ],
   "source": [
    "df = pd.read_csv(\"/Users/marin/machine/redshift_data_project/Skyserver_Spectro2_13_2018 10_41_13 PM.csv\", \\\n",
    "                 delimiter = \",\", skiprows=1)\n",
    "df.head()"
   ]
  },
  {
   "cell_type": "markdown",
   "metadata": {},
   "source": [
    "Plots a histogram for every value in each column"
   ]
  },
  {
   "cell_type": "code",
   "execution_count": 6,
   "metadata": {
    "scrolled": false
   },
   "outputs": [
    {
     "name": "stdout",
     "output_type": "stream",
     "text": [
      "Series([], Name: objid, dtype: int64)\n",
      "Series([], Name: objid, dtype: int64)\n"
     ]
    },
    {
     "data": {
      "image/png": "[encoded data removed]",
      "text/plain": [
       "<Figure size 432x288 with 1 Axes>"
      ]
     },
     "metadata": {},
     "output_type": "display_data"
    },
    {
     "name": "stdout",
     "output_type": "stream",
     "text": [
      "Series([], Name: objid, dtype: int64)\n",
      "Series([], Name: objid, dtype: int64)\n"
     ]
    },
    {
     "data": {
      "image/png": "[encoded data removed]",
      "text/plain": [
       "<Figure size 432x288 with 1 Axes>"
      ]
     },
     "metadata": {},
     "output_type": "display_data"
    },
    {
     "name": "stdout",
     "output_type": "stream",
     "text": [
      "Series([], Name: objid, dtype: int64)\n",
      "Series([], Name: objid, dtype: int64)\n"
     ]
    },
    {
     "data": {
      "image/png": "[encoded data removed]",
      "text/plain": [
       "<Figure size 432x288 with 1 Axes>"
      ]
     },
     "metadata": {},
     "output_type": "display_data"
    },
    {
     "name": "stdout",
     "output_type": "stream",
     "text": [
      "Series([], Name: objid, dtype: int64)\n",
      "607    1237646379377885363\n",
      "Name: objid, dtype: int64\n"
     ]
    },
    {
     "data": {
      "image/png": "[encoded data removed]",
      "text/plain": [
       "<Figure size 432x288 with 1 Axes>"
      ]
     },
     "metadata": {},
     "output_type": "display_data"
    },
    {
     "name": "stdout",
     "output_type": "stream",
     "text": [
      "Series([], Name: objid, dtype: int64)\n",
      "607    1237646379377885363\n",
      "Name: objid, dtype: int64\n"
     ]
    },
    {
     "data": {
      "image/png": "[encoded data removed]",
      "text/plain": [
       "<Figure size 432x288 with 1 Axes>"
      ]
     },
     "metadata": {},
     "output_type": "display_data"
    },
    {
     "name": "stdout",
     "output_type": "stream",
     "text": [
      "660    1237646586638697424\n",
      "Name: objid, dtype: int64\n",
      "Series([], Name: objid, dtype: int64)\n"
     ]
    },
    {
     "data": {
      "image/png": "[encoded data removed]",
      "text/plain": [
       "<Figure size 432x288 with 1 Axes>"
      ]
     },
     "metadata": {},
     "output_type": "display_data"
    }
   ],
   "source": [
    "plt.rcParams.update(plt.rcParamsDefault)\n",
    "%matplotlib inline\n",
    "for name in ['u', 'g', 'r', 'i', 'z', 'redshift']:\n",
    "    print(df['objid'][df[name] == 0.])\n",
    "    print(df['objid'][df[name] == -9999])\n",
    "    plt.hist(df[name], bins=50)\n",
    "    plt.xlabel(name)\n",
    "    plt.show()"
   ]
  },
  {
   "cell_type": "markdown",
   "metadata": {},
   "source": [
    "Filters out values of -9999 and 0 from columns, leaving only actual data"
   ]
  },
  {
   "cell_type": "code",
   "execution_count": 7,
   "metadata": {
    "scrolled": true
   },
   "outputs": [
    {
     "data": {
      "text/html": [
       "<div>\n",
       "<style scoped>\n",
       "    .dataframe tbody tr th:only-of-type {\n",
       "        vertical-align: middle;\n",
       "    }\n",
       "\n",
       "    .dataframe tbody tr th {\n",
       "        vertical-align: top;\n",
       "    }\n",
       "\n",
       "    .dataframe thead th {\n",
       "        text-align: right;\n",
       "    }\n",
       "</style>\n",
       "<table border=\"1\" class=\"dataframe\">\n",
       "  <thead>\n",
       "    <tr style=\"text-align: right;\">\n",
       "      <th></th>\n",
       "      <th>objid</th>\n",
       "      <th>ra</th>\n",
       "      <th>dec</th>\n",
       "      <th>u</th>\n",
       "      <th>g</th>\n",
       "      <th>r</th>\n",
       "      <th>i</th>\n",
       "      <th>z</th>\n",
       "      <th>redshift</th>\n",
       "      <th>specobjid</th>\n",
       "      <th>plate</th>\n",
       "      <th>mjd</th>\n",
       "      <th>fiberid</th>\n",
       "    </tr>\n",
       "  </thead>\n",
       "  <tbody>\n",
       "    <tr>\n",
       "      <th>0</th>\n",
       "      <td>1237645879551000764</td>\n",
       "      <td>348.841087</td>\n",
       "      <td>1.268802</td>\n",
       "      <td>25.92735</td>\n",
       "      <td>20.99570</td>\n",
       "      <td>19.24612</td>\n",
       "      <td>18.56461</td>\n",
       "      <td>18.43049</td>\n",
       "      <td>0.399651</td>\n",
       "      <td>4825695603672457216</td>\n",
       "      <td>4286</td>\n",
       "      <td>55499</td>\n",
       "      <td>322</td>\n",
       "    </tr>\n",
       "    <tr>\n",
       "      <th>1</th>\n",
       "      <td>1237645879551066262</td>\n",
       "      <td>348.902530</td>\n",
       "      <td>1.271886</td>\n",
       "      <td>19.38905</td>\n",
       "      <td>18.24496</td>\n",
       "      <td>17.58728</td>\n",
       "      <td>17.20807</td>\n",
       "      <td>16.90905</td>\n",
       "      <td>0.032125</td>\n",
       "      <td>430194949951088640</td>\n",
       "      <td>382</td>\n",
       "      <td>51816</td>\n",
       "      <td>368</td>\n",
       "    </tr>\n",
       "    <tr>\n",
       "      <th>2</th>\n",
       "      <td>1237645879562928144</td>\n",
       "      <td>16.004912</td>\n",
       "      <td>1.259423</td>\n",
       "      <td>21.50923</td>\n",
       "      <td>19.69340</td>\n",
       "      <td>18.47973</td>\n",
       "      <td>17.91998</td>\n",
       "      <td>17.55132</td>\n",
       "      <td>0.312048</td>\n",
       "      <td>754455784200366080</td>\n",
       "      <td>670</td>\n",
       "      <td>52520</td>\n",
       "      <td>374</td>\n",
       "    </tr>\n",
       "    <tr>\n",
       "      <th>3</th>\n",
       "      <td>1237645879562928258</td>\n",
       "      <td>16.020244</td>\n",
       "      <td>1.267667</td>\n",
       "      <td>20.96947</td>\n",
       "      <td>20.29136</td>\n",
       "      <td>19.36779</td>\n",
       "      <td>18.86387</td>\n",
       "      <td>18.45551</td>\n",
       "      <td>0.200468</td>\n",
       "      <td>754453860055017472</td>\n",
       "      <td>670</td>\n",
       "      <td>52520</td>\n",
       "      <td>367</td>\n",
       "    </tr>\n",
       "    <tr>\n",
       "      <th>4</th>\n",
       "      <td>1237645879562928805</td>\n",
       "      <td>16.026029</td>\n",
       "      <td>1.266772</td>\n",
       "      <td>25.27165</td>\n",
       "      <td>22.32081</td>\n",
       "      <td>21.33033</td>\n",
       "      <td>19.94852</td>\n",
       "      <td>19.47201</td>\n",
       "      <td>0.752645</td>\n",
       "      <td>4853831831466778624</td>\n",
       "      <td>4311</td>\n",
       "      <td>55506</td>\n",
       "      <td>281</td>\n",
       "    </tr>\n",
       "  </tbody>\n",
       "</table>\n",
       "</div>"
      ],
      "text/plain": [
       "                 objid          ra       dec         u         g         r  \\\n",
       "0  1237645879551000764  348.841087  1.268802  25.92735  20.99570  19.24612   \n",
       "1  1237645879551066262  348.902530  1.271886  19.38905  18.24496  17.58728   \n",
       "2  1237645879562928144   16.004912  1.259423  21.50923  19.69340  18.47973   \n",
       "3  1237645879562928258   16.020244  1.267667  20.96947  20.29136  19.36779   \n",
       "4  1237645879562928805   16.026029  1.266772  25.27165  22.32081  21.33033   \n",
       "\n",
       "          i         z  redshift            specobjid  plate    mjd  fiberid  \n",
       "0  18.56461  18.43049  0.399651  4825695603672457216   4286  55499      322  \n",
       "1  17.20807  16.90905  0.032125   430194949951088640    382  51816      368  \n",
       "2  17.91998  17.55132  0.312048   754455784200366080    670  52520      374  \n",
       "3  18.86387  18.45551  0.200468   754453860055017472    670  52520      367  \n",
       "4  19.94852  19.47201  0.752645  4853831831466778624   4311  55506      281  "
      ]
     },
     "execution_count": 7,
     "metadata": {},
     "output_type": "execute_result"
    }
   ],
   "source": [
    "df_filtered = df[(df['i'] != -9999.0) & (df['z'] != -9999.0) & (df['redshift'] != 0.00)]\n",
    "df_filtered.head()"
   ]
  },
  {
   "cell_type": "code",
   "execution_count": 9,
   "metadata": {},
   "outputs": [
    {
     "name": "stdout",
     "output_type": "stream",
     "text": [
      "Series([], Name: objid, dtype: int64)\n",
      "Series([], Name: objid, dtype: int64)\n"
     ]
    },
    {
     "data": {
      "image/png": "[encoded data removed]",
      "text/plain": [
       "<Figure size 432x288 with 1 Axes>"
      ]
     },
     "metadata": {},
     "output_type": "display_data"
    },
    {
     "name": "stdout",
     "output_type": "stream",
     "text": [
      "Series([], Name: objid, dtype: int64)\n",
      "Series([], Name: objid, dtype: int64)\n"
     ]
    },
    {
     "data": {
      "image/png": "[encoded data removed]",
      "text/plain": [
       "<Figure size 432x288 with 1 Axes>"
      ]
     },
     "metadata": {},
     "output_type": "display_data"
    },
    {
     "name": "stdout",
     "output_type": "stream",
     "text": [
      "Series([], Name: objid, dtype: int64)\n",
      "Series([], Name: objid, dtype: int64)\n"
     ]
    },
    {
     "data": {
      "image/png": "[encoded data removed]",
      "text/plain": [
       "<Figure size 432x288 with 1 Axes>"
      ]
     },
     "metadata": {},
     "output_type": "display_data"
    },
    {
     "name": "stdout",
     "output_type": "stream",
     "text": [
      "Series([], Name: objid, dtype: int64)\n",
      "Series([], Name: objid, dtype: int64)\n"
     ]
    },
    {
     "data": {
      "image/png": "[encoded data removed]",
      "text/plain": [
       "<Figure size 432x288 with 1 Axes>"
      ]
     },
     "metadata": {},
     "output_type": "display_data"
    },
    {
     "name": "stdout",
     "output_type": "stream",
     "text": [
      "Series([], Name: objid, dtype: int64)\n",
      "Series([], Name: objid, dtype: int64)\n"
     ]
    },
    {
     "data": {
      "image/png": "[encoded data removed]",
      "text/plain": [
       "<Figure size 432x288 with 1 Axes>"
      ]
     },
     "metadata": {},
     "output_type": "display_data"
    },
    {
     "name": "stdout",
     "output_type": "stream",
     "text": [
      "Series([], Name: objid, dtype: int64)\n",
      "Series([], Name: objid, dtype: int64)\n"
     ]
    },
    {
     "data": {
      "image/png": "[encoded data removed]",
      "text/plain": [
       "<Figure size 432x288 with 1 Axes>"
      ]
     },
     "metadata": {},
     "output_type": "display_data"
    }
   ],
   "source": [
    "for name in ['u', 'g', 'r', 'i', 'z', 'redshift']:\n",
    "    print(df_filtered['objid'][df_filtered[name] == 0.])\n",
    "    print(df_filtered['objid'][df_filtered[name] == -9999])\n",
    "    plt.hist(df_filtered[name], bins=50)\n",
    "    plt.xlabel(name)\n",
    "    plt.show()"
   ]
  },
  {
   "cell_type": "code",
   "execution_count": 7,
   "metadata": {},
   "outputs": [
    {
     "name": "stdout",
     "output_type": "stream",
     "text": [
      "['objid' 'ra' 'dec' 'u' 'g' 'r' 'i' 'z' 'redshift' 'specobjid' 'plate'\n",
      " 'mjd' 'fiberid']\n"
     ]
    }
   ],
   "source": [
    "print(names)"
   ]
  },
  {
   "cell_type": "markdown",
   "metadata": {},
   "source": [
    "Create a variable y, where y is the redshift. y is a vector."
   ]
  },
  {
   "cell_type": "code",
   "execution_count": 8,
   "metadata": {},
   "outputs": [],
   "source": [
    "y = data.T[8]"
   ]
  },
  {
   "cell_type": "markdown",
   "metadata": {},
   "source": [
    "Create a variable x, where x is the values that are obtained when astrophysicists try to determine the redshift with the \"colored glasses\". x is a 4 by 1000 matrix."
   ]
  },
  {
   "cell_type": "code",
   "execution_count": 9,
   "metadata": {},
   "outputs": [],
   "source": [
    "x = data.T[3:8]"
   ]
  },
  {
   "cell_type": "markdown",
   "metadata": {},
   "source": [
    "Create a variable, x_rot, which is x transposed. A transposed matrix is one where the first row becomes the first column, second row becomes the second column, etc."
   ]
  },
  {
   "cell_type": "code",
   "execution_count": 10,
   "metadata": {},
   "outputs": [],
   "source": [
    "x_rot = x.T"
   ]
  },
  {
   "cell_type": "markdown",
   "metadata": {},
   "source": [
    "Creates equivalents to y and x_rot using the filtered dataframe instead."
   ]
  },
  {
   "cell_type": "code",
   "execution_count": 11,
   "metadata": {},
   "outputs": [
    {
     "data": {
      "text/html": [
       "<div>\n",
       "<style scoped>\n",
       "    .dataframe tbody tr th:only-of-type {\n",
       "        vertical-align: middle;\n",
       "    }\n",
       "\n",
       "    .dataframe tbody tr th {\n",
       "        vertical-align: top;\n",
       "    }\n",
       "\n",
       "    .dataframe thead th {\n",
       "        text-align: right;\n",
       "    }\n",
       "</style>\n",
       "<table border=\"1\" class=\"dataframe\">\n",
       "  <thead>\n",
       "    <tr style=\"text-align: right;\">\n",
       "      <th></th>\n",
       "      <th>u</th>\n",
       "      <th>g</th>\n",
       "      <th>r</th>\n",
       "      <th>i</th>\n",
       "      <th>z</th>\n",
       "    </tr>\n",
       "  </thead>\n",
       "  <tbody>\n",
       "    <tr>\n",
       "      <th>0</th>\n",
       "      <td>25.92735</td>\n",
       "      <td>20.99570</td>\n",
       "      <td>19.24612</td>\n",
       "      <td>18.56461</td>\n",
       "      <td>18.43049</td>\n",
       "    </tr>\n",
       "    <tr>\n",
       "      <th>1</th>\n",
       "      <td>19.38905</td>\n",
       "      <td>18.24496</td>\n",
       "      <td>17.58728</td>\n",
       "      <td>17.20807</td>\n",
       "      <td>16.90905</td>\n",
       "    </tr>\n",
       "    <tr>\n",
       "      <th>2</th>\n",
       "      <td>21.50923</td>\n",
       "      <td>19.69340</td>\n",
       "      <td>18.47973</td>\n",
       "      <td>17.91998</td>\n",
       "      <td>17.55132</td>\n",
       "    </tr>\n",
       "    <tr>\n",
       "      <th>3</th>\n",
       "      <td>20.96947</td>\n",
       "      <td>20.29136</td>\n",
       "      <td>19.36779</td>\n",
       "      <td>18.86387</td>\n",
       "      <td>18.45551</td>\n",
       "    </tr>\n",
       "    <tr>\n",
       "      <th>4</th>\n",
       "      <td>25.27165</td>\n",
       "      <td>22.32081</td>\n",
       "      <td>21.33033</td>\n",
       "      <td>19.94852</td>\n",
       "      <td>19.47201</td>\n",
       "    </tr>\n",
       "  </tbody>\n",
       "</table>\n",
       "</div>"
      ],
      "text/plain": [
       "          u         g         r         i         z\n",
       "0  25.92735  20.99570  19.24612  18.56461  18.43049\n",
       "1  19.38905  18.24496  17.58728  17.20807  16.90905\n",
       "2  21.50923  19.69340  18.47973  17.91998  17.55132\n",
       "3  20.96947  20.29136  19.36779  18.86387  18.45551\n",
       "4  25.27165  22.32081  21.33033  19.94852  19.47201"
      ]
     },
     "execution_count": 11,
     "metadata": {},
     "output_type": "execute_result"
    }
   ],
   "source": [
    "filtered_y = df_filtered['redshift']\n",
    "filtered_x = df_filtered.iloc[:,3:8]\n",
    "filtered_x.head()"
   ]
  },
  {
   "cell_type": "markdown",
   "metadata": {},
   "source": [
    "Calls reg.fit on filtered_x and filtered_y, then uses reg.predict on filtered_x."
   ]
  },
  {
   "cell_type": "markdown",
   "metadata": {},
   "source": [
    "reg.fit takes two parameters: x_rot and y. x_rot is the array of training data and y is the array of target values. reg.fit creates an equation that fits most of the data points. It does this by finding b, m in\n",
    "\n",
    "$y_{obs, i} = m \\cdot a_{i} + b + \\sigma_{i} = y_{pred, i} + \\sigma_{i}$\n",
    "by minimizing $\\chi^{2}$ when using all $i=1, ...,N$ for N galaxies\n",
    "\n",
    "reg.fit specifically passes in y for $y_{obs, i}$ and x_rot for $a_{i}$, which leaves only m and b (plus the error value). m is a vector and b and $\\sigma_{i}$ are scalars (because $y_{obs,i}$ is a scalar)\n",
    "\n",
    "$y_{obs, i} = m \\cdot a_{i} + b + \\sigma_{i}$\n",
    "\n",
    "It leaves the job of actually plugging in values for $a_{i}$ and solving for $y_{pred, i}$ to reg.predict. "
   ]
  },
  {
   "cell_type": "markdown",
   "metadata": {},
   "source": [
    "filtered_y_for_graph is taking the dot product of m and the array of x values. This will create an array of y values that have the slope of the best fit line."
   ]
  },
  {
   "cell_type": "code",
   "execution_count": 12,
   "metadata": {},
   "outputs": [],
   "source": [
    "from sklearn import linear_model\n",
    "reg = linear_model.LinearRegression()\n",
    "reg.fit (filtered_x,filtered_y)\n",
    "filtered_y_for_graph = reg.predict(filtered_x)"
   ]
  },
  {
   "cell_type": "markdown",
   "metadata": {},
   "source": [
    "Coefficients is a vector with 5 elements because $a_{i}$ has five dimensions, and reg.fit calculates m for all five. This also works out so that $y_{obs,i}$ is a scalar. reg.intercept represents b in the equation, and there is only one value because b is a scalar."
   ]
  },
  {
   "cell_type": "code",
   "execution_count": 13,
   "metadata": {},
   "outputs": [
    {
     "name": "stdout",
     "output_type": "stream",
     "text": [
      "[-0.01998865  0.12297988 -0.00624468  0.00656873  0.00455183]\n",
      "-1.8144529721670781\n"
     ]
    }
   ],
   "source": [
    "coefficients = (reg.coef_)\n",
    "print(coefficients)\n",
    "print(reg.intercept_)"
   ]
  },
  {
   "cell_type": "markdown",
   "metadata": {},
   "source": [
    "Create a list, filtered_x_list, with the minimum and maximum values for each value (u, g, r, i, z) out of the 1000 given. This is to create a range of x values for plotting the best fit line (since filtered_y_for_graph is only y values, it needs corresponding x values)."
   ]
  },
  {
   "cell_type": "code",
   "execution_count": 14,
   "metadata": {},
   "outputs": [
    {
     "name": "stdout",
     "output_type": "stream",
     "text": [
      "[16.25679, 27.24833, 14.80274, 25.424970000000002, 14.26476, 29.72628, 13.898439999999999, 24.36224, 13.9735, 22.827070000000003]\n"
     ]
    }
   ],
   "source": [
    "filtered_x_list = []\n",
    "for column in filtered_x:\n",
    "    filtered_x_list.append(min(filtered_x[column]))\n",
    "    filtered_x_list.append(max(filtered_x[column]))\n",
    "print(filtered_x_list)"
   ]
  },
  {
   "cell_type": "markdown",
   "metadata": {},
   "source": [
    "one_filtered_x_for_plotting is an array consisting of 4 evenly spaced numbers from the minimum value in filtered_x_list to the maximum value in filtered_x_list. This is to create a range of x values to go with the y values so that a line can be made.\n",
    "filtered_x_for_plotting is a 2d array with five 4-element arrays inside, one for each \"filter\" (u,g,r,i,z). Theoretically this should be done using the actual values. This will be fixed!\n",
    "filtered_y_for_grid uses reg.predict. reg.predict takes the trasnposed matrix of x_for_plotting, and for each one out of five, takes the dot product of m and the array of x values in that particular filter. It returns five arrays of y values, so there are five graphs."
   ]
  },
  {
   "cell_type": "code",
   "execution_count": 15,
   "metadata": {},
   "outputs": [
    {
     "data": {
      "image/png": "[encoded data removed]",
      "text/plain": [
       "<Figure size 432x288 with 1 Axes>"
      ]
     },
     "metadata": {},
     "output_type": "display_data"
    },
    {
     "data": {
      "image/png": "[encoded data removed]",
      "text/plain": [
       "<Figure size 432x288 with 1 Axes>"
      ]
     },
     "metadata": {},
     "output_type": "display_data"
    },
    {
     "data": {
      "image/png": "[encoded data removed]",
      "text/plain": [
       "<Figure size 432x288 with 1 Axes>"
      ]
     },
     "metadata": {},
     "output_type": "display_data"
    },
    {
     "data": {
      "image/png": "[encoded data removed]",
      "text/plain": [
       "<Figure size 432x288 with 1 Axes>"
      ]
     },
     "metadata": {},
     "output_type": "display_data"
    },
    {
     "data": {
      "image/png": "[encoded data removed]",
      "text/plain": [
       "<Figure size 432x288 with 1 Axes>"
      ]
     },
     "metadata": {},
     "output_type": "display_data"
    }
   ],
   "source": [
    "one_filtered_x_for_plotting = numpy.linspace(min(filtered_x_list), max(filtered_x_list), 5)\n",
    "filtered_x_for_plotting = numpy.asarray([one_filtered_x_for_plotting, one_filtered_x_for_plotting, \\\n",
    "                                         one_filtered_x_for_plotting, one_filtered_x_for_plotting, \\\n",
    "                                         one_filtered_x_for_plotting])\n",
    "\n",
    "filtered_y_for_grid = reg.predict(filtered_x_for_plotting.T)\n",
    "\n",
    "for i in range(5):\n",
    "    plt.scatter(filtered_x.iloc[:,i], filtered_y, color='black')\n",
    "    plt.plot(filtered_x_for_plotting[i], filtered_y_for_grid,  color='blue', linewidth = 3)\n",
    "    plt.xlabel(\"Magnitude\")\n",
    "    plt.ylabel(\"Redshift\")\n",
    "    plt.show()"
   ]
  },
  {
   "cell_type": "markdown",
   "metadata": {},
   "source": [
    "The function chi_square_error calculates the goodness of fit using the chi-squared test, which is the sum of all of the predicted values minus the observed values squared, then divided by the predicted values."
   ]
  },
  {
   "cell_type": "code",
   "execution_count": 16,
   "metadata": {},
   "outputs": [
    {
     "name": "stdout",
     "output_type": "stream",
     "text": [
      "11.767931753891357\n"
     ]
    }
   ],
   "source": [
    "def chi_square_error(observed_y, predicted_y):\n",
    "    error = 0\n",
    "    observed_y_list = observed_y.tolist()\n",
    "    predicted_y_list = predicted_y.tolist()\n",
    "    for i in predicted_y_list:\n",
    "        error += ((observed_y_list[predicted_y_list.index(i)] - i)**2)/numpy.var(predicted_y)**2\n",
    "    print(error)\n",
    "\n",
    "chi_square_error(filtered_y, filtered_y_for_grid)"
   ]
  },
  {
   "cell_type": "markdown",
   "metadata": {},
   "source": [
    "A plot of the error value versus the numer of y values with the error value. This plot shows that there are a lot of points with very little error value while there are a few points with a large error value."
   ]
  },
  {
   "cell_type": "code",
   "execution_count": 17,
   "metadata": {},
   "outputs": [
    {
     "data": {
      "image/png": "[encoded data removed]",
      "text/plain": [
       "<Figure size 432x288 with 1 Axes>"
      ]
     },
     "metadata": {},
     "output_type": "display_data"
    }
   ],
   "source": [
    "error = numpy.subtract(filtered_y, filtered_y_for_graph)\n",
    "plt.hist(error, range = [-1, 1], bins=50, color='blue')\n",
    "plt.xlabel('Error value')\n",
    "plt.ylabel('Number of y points with this error value')\n",
    "plt.show()"
   ]
  },
  {
   "cell_type": "markdown",
   "metadata": {},
   "source": [
    "A plot of magnitude versus error value. This plot looks similar to the actual plot of magnitude versus redshift, which is a property of error graphs. "
   ]
  },
  {
   "cell_type": "code",
   "execution_count": 18,
   "metadata": {},
   "outputs": [
    {
     "data": {
      "image/png": "[encoded data removed]",
      "text/plain": [
       "<Figure size 432x288 with 1 Axes>"
      ]
     },
     "metadata": {},
     "output_type": "display_data"
    }
   ],
   "source": [
    "plt.scatter(filtered_x.iloc[:,0], error, color='black', s=1, alpha=0.5)\n",
    "plt.xlabel('Magnitude')\n",
    "plt.ylabel('Error value')\n",
    "plt.show()"
   ]
  },
  {
   "cell_type": "markdown",
   "metadata": {},
   "source": [
    "A plot of redshift versus error value. There are many redshift values at 0.0 or very close, because of the placeholder values. "
   ]
  },
  {
   "cell_type": "code",
   "execution_count": 19,
   "metadata": {},
   "outputs": [
    {
     "data": {
      "image/png": "[encoded data removed]",
      "text/plain": [
       "<Figure size 432x288 with 1 Axes>"
      ]
     },
     "metadata": {},
     "output_type": "display_data"
    }
   ],
   "source": [
    "plt.scatter(filtered_y, error, color='black', s=1, alpha=0.5)\n",
    "plt.xlim(-0.1, 1)\n",
    "plt.ylim(-1,1)\n",
    "plt.xlabel('Redshift')\n",
    "plt.ylabel('Error value')\n",
    "plt.show()"
   ]
  },
  {
   "cell_type": "markdown",
   "metadata": {
    "collapsed": true
   },
   "source": [
    "# Questions\n",
    "Why don't we use the equation we got from reg.fit in the plot (versus reg.predict)?\n",
    "What's the point of making x_for_plotting be 2 dimensional if we're only taking the first value in the plot? Ans: we can't plot stuff in 5 dimensions\n",
    "Why do we need to transpose x_for_plotting when we predict values? Ans: Some methods are inconsistent and require transposing x\n",
    "Why do we create x_list with the minimum and maximum values for each variable? Ans: to create the x values for x_for_plotting. Since some x values are -9999 because they are placeholders, we can't have that be the minimum range for the graph so we use 15.\n",
    "Why do we only take the first element in x when making the scatterplot? Isn't that equivalent to only using the variable u to plot the points? How can we use all 4 variables (wasn't that the point in the first place)? Ans: We can't plot stuff in 5 dimensions. We are only using u (the magnitude) as the x value."
   ]
  },
  {
   "cell_type": "code",
   "execution_count": null,
   "metadata": {},
   "outputs": [],
   "source": []
  },
  {
   "cell_type": "code",
   "execution_count": null,
   "metadata": {},
   "outputs": [],
   "source": []
  }
 ],
 "metadata": {
  "kernelspec": {
   "display_name": "Python 3",
   "language": "python",
   "name": "python3"
  },
  "language_info": {
   "codemirror_mode": {
    "name": "ipython",
    "version": 3
   },
   "file_extension": ".py",
   "mimetype": "text/x-python",
   "name": "python",
   "nbconvert_exporter": "python",
   "pygments_lexer": "ipython3",
   "version": "3.6.4"
  }
 },
 "nbformat": 4,
 "nbformat_minor": 1
}
