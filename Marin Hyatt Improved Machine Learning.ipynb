{
 "cells": [
  {
   "cell_type": "markdown",
   "metadata": {},
   "source": [
    "Import numpy, pandas, and matplotlib"
   ]
  },
  {
   "cell_type": "code",
   "execution_count": 1,
   "metadata": {},
   "outputs": [],
   "source": [
    "import pandas as pd\n",
    "import numpy\n",
    "import matplotlib.pyplot as plt"
   ]
  },
  {
   "cell_type": "markdown",
   "metadata": {},
   "source": [
    "Use numpy to load the data file, then store the data in a variable"
   ]
  },
  {
   "cell_type": "code",
   "execution_count": 2,
   "metadata": {},
   "outputs": [],
   "source": [
    "data = numpy.loadtxt(\"Skyserver_Spectro2_13_2018 10_41_13 PM.csv\", skiprows = 2, delimiter = \",\")"
   ]
  },
  {
   "cell_type": "markdown",
   "metadata": {},
   "source": [
    "Store names of colums in list names"
   ]
  },
  {
   "cell_type": "code",
   "execution_count": 3,
   "metadata": {},
   "outputs": [],
   "source": [
    "names = numpy.loadtxt(\"Skyserver_Spectro2_13_2018 10_41_13 PM.csv\", dtype=str, skiprows = 1, delimiter = \",\")[0]"
   ]
  },
  {
   "cell_type": "markdown",
   "metadata": {},
   "source": [
    "Create a dataframe from the csv file."
   ]
  },
  {
   "cell_type": "code",
   "execution_count": 4,
   "metadata": {},
   "outputs": [
    {
     "data": {
      "text/html": [
       "<div>\n",
       "<style scoped>\n",
       "    .dataframe tbody tr th:only-of-type {\n",
       "        vertical-align: middle;\n",
       "    }\n",
       "\n",
       "    .dataframe tbody tr th {\n",
       "        vertical-align: top;\n",
       "    }\n",
       "\n",
       "    .dataframe thead th {\n",
       "        text-align: right;\n",
       "    }\n",
       "</style>\n",
       "<table border=\"1\" class=\"dataframe\">\n",
       "  <thead>\n",
       "    <tr style=\"text-align: right;\">\n",
       "      <th></th>\n",
       "      <th>objid</th>\n",
       "      <th>ra</th>\n",
       "      <th>dec</th>\n",
       "      <th>u</th>\n",
       "      <th>g</th>\n",
       "      <th>r</th>\n",
       "      <th>i</th>\n",
       "      <th>z</th>\n",
       "      <th>redshift</th>\n",
       "      <th>specobjid</th>\n",
       "      <th>plate</th>\n",
       "      <th>mjd</th>\n",
       "      <th>fiberid</th>\n",
       "    </tr>\n",
       "  </thead>\n",
       "  <tbody>\n",
       "    <tr>\n",
       "      <th>0</th>\n",
       "      <td>1237645879551000764</td>\n",
       "      <td>348.841087</td>\n",
       "      <td>1.268802</td>\n",
       "      <td>25.92735</td>\n",
       "      <td>20.99570</td>\n",
       "      <td>19.24612</td>\n",
       "      <td>18.56461</td>\n",
       "      <td>18.43049</td>\n",
       "      <td>0.399651</td>\n",
       "      <td>4825695603672457216</td>\n",
       "      <td>4286</td>\n",
       "      <td>55499</td>\n",
       "      <td>322</td>\n",
       "    </tr>\n",
       "    <tr>\n",
       "      <th>1</th>\n",
       "      <td>1237645879551066262</td>\n",
       "      <td>348.902530</td>\n",
       "      <td>1.271886</td>\n",
       "      <td>19.38905</td>\n",
       "      <td>18.24496</td>\n",
       "      <td>17.58728</td>\n",
       "      <td>17.20807</td>\n",
       "      <td>16.90905</td>\n",
       "      <td>0.032125</td>\n",
       "      <td>430194949951088640</td>\n",
       "      <td>382</td>\n",
       "      <td>51816</td>\n",
       "      <td>368</td>\n",
       "    </tr>\n",
       "    <tr>\n",
       "      <th>2</th>\n",
       "      <td>1237645879562928144</td>\n",
       "      <td>16.004912</td>\n",
       "      <td>1.259423</td>\n",
       "      <td>21.50923</td>\n",
       "      <td>19.69340</td>\n",
       "      <td>18.47973</td>\n",
       "      <td>17.91998</td>\n",
       "      <td>17.55132</td>\n",
       "      <td>0.312048</td>\n",
       "      <td>754455784200366080</td>\n",
       "      <td>670</td>\n",
       "      <td>52520</td>\n",
       "      <td>374</td>\n",
       "    </tr>\n",
       "    <tr>\n",
       "      <th>3</th>\n",
       "      <td>1237645879562928258</td>\n",
       "      <td>16.020244</td>\n",
       "      <td>1.267667</td>\n",
       "      <td>20.96947</td>\n",
       "      <td>20.29136</td>\n",
       "      <td>19.36779</td>\n",
       "      <td>18.86387</td>\n",
       "      <td>18.45551</td>\n",
       "      <td>0.200468</td>\n",
       "      <td>754453860055017472</td>\n",
       "      <td>670</td>\n",
       "      <td>52520</td>\n",
       "      <td>367</td>\n",
       "    </tr>\n",
       "    <tr>\n",
       "      <th>4</th>\n",
       "      <td>1237645879562928805</td>\n",
       "      <td>16.026029</td>\n",
       "      <td>1.266772</td>\n",
       "      <td>25.27165</td>\n",
       "      <td>22.32081</td>\n",
       "      <td>21.33033</td>\n",
       "      <td>19.94852</td>\n",
       "      <td>19.47201</td>\n",
       "      <td>0.752645</td>\n",
       "      <td>4853831831466778624</td>\n",
       "      <td>4311</td>\n",
       "      <td>55506</td>\n",
       "      <td>281</td>\n",
       "    </tr>\n",
       "  </tbody>\n",
       "</table>\n",
       "</div>"
      ],
      "text/plain": [
       "                 objid          ra       dec         u         g         r  \\\n",
       "0  1237645879551000764  348.841087  1.268802  25.92735  20.99570  19.24612   \n",
       "1  1237645879551066262  348.902530  1.271886  19.38905  18.24496  17.58728   \n",
       "2  1237645879562928144   16.004912  1.259423  21.50923  19.69340  18.47973   \n",
       "3  1237645879562928258   16.020244  1.267667  20.96947  20.29136  19.36779   \n",
       "4  1237645879562928805   16.026029  1.266772  25.27165  22.32081  21.33033   \n",
       "\n",
       "          i         z  redshift            specobjid  plate    mjd  fiberid  \n",
       "0  18.56461  18.43049  0.399651  4825695603672457216   4286  55499      322  \n",
       "1  17.20807  16.90905  0.032125   430194949951088640    382  51816      368  \n",
       "2  17.91998  17.55132  0.312048   754455784200366080    670  52520      374  \n",
       "3  18.86387  18.45551  0.200468   754453860055017472    670  52520      367  \n",
       "4  19.94852  19.47201  0.752645  4853831831466778624   4311  55506      281  "
      ]
     },
     "execution_count": 4,
     "metadata": {},
     "output_type": "execute_result"
    }
   ],
   "source": [
    "df = pd.read_csv(\"/Users/marin/machine/redshift_data_project/Skyserver_Spectro2_13_2018 10_41_13 PM.csv\", \\\n",
    "                 delimiter = \",\", skiprows=1)\n",
    "df.head()"
   ]
  },
  {
   "cell_type": "markdown",
   "metadata": {},
   "source": [
    "Filter out values of -9999 and 0 from columns, leaving only actual data"
   ]
  },
  {
   "cell_type": "code",
   "execution_count": 5,
   "metadata": {},
   "outputs": [
    {
     "data": {
      "text/html": [
       "<div>\n",
       "<style scoped>\n",
       "    .dataframe tbody tr th:only-of-type {\n",
       "        vertical-align: middle;\n",
       "    }\n",
       "\n",
       "    .dataframe tbody tr th {\n",
       "        vertical-align: top;\n",
       "    }\n",
       "\n",
       "    .dataframe thead th {\n",
       "        text-align: right;\n",
       "    }\n",
       "</style>\n",
       "<table border=\"1\" class=\"dataframe\">\n",
       "  <thead>\n",
       "    <tr style=\"text-align: right;\">\n",
       "      <th></th>\n",
       "      <th>objid</th>\n",
       "      <th>ra</th>\n",
       "      <th>dec</th>\n",
       "      <th>u</th>\n",
       "      <th>g</th>\n",
       "      <th>r</th>\n",
       "      <th>i</th>\n",
       "      <th>z</th>\n",
       "      <th>redshift</th>\n",
       "      <th>specobjid</th>\n",
       "      <th>plate</th>\n",
       "      <th>mjd</th>\n",
       "      <th>fiberid</th>\n",
       "    </tr>\n",
       "  </thead>\n",
       "  <tbody>\n",
       "    <tr>\n",
       "      <th>0</th>\n",
       "      <td>1237645879551000764</td>\n",
       "      <td>348.841087</td>\n",
       "      <td>1.268802</td>\n",
       "      <td>25.92735</td>\n",
       "      <td>20.99570</td>\n",
       "      <td>19.24612</td>\n",
       "      <td>18.56461</td>\n",
       "      <td>18.43049</td>\n",
       "      <td>0.399651</td>\n",
       "      <td>4825695603672457216</td>\n",
       "      <td>4286</td>\n",
       "      <td>55499</td>\n",
       "      <td>322</td>\n",
       "    </tr>\n",
       "    <tr>\n",
       "      <th>1</th>\n",
       "      <td>1237645879551066262</td>\n",
       "      <td>348.902530</td>\n",
       "      <td>1.271886</td>\n",
       "      <td>19.38905</td>\n",
       "      <td>18.24496</td>\n",
       "      <td>17.58728</td>\n",
       "      <td>17.20807</td>\n",
       "      <td>16.90905</td>\n",
       "      <td>0.032125</td>\n",
       "      <td>430194949951088640</td>\n",
       "      <td>382</td>\n",
       "      <td>51816</td>\n",
       "      <td>368</td>\n",
       "    </tr>\n",
       "    <tr>\n",
       "      <th>2</th>\n",
       "      <td>1237645879562928144</td>\n",
       "      <td>16.004912</td>\n",
       "      <td>1.259423</td>\n",
       "      <td>21.50923</td>\n",
       "      <td>19.69340</td>\n",
       "      <td>18.47973</td>\n",
       "      <td>17.91998</td>\n",
       "      <td>17.55132</td>\n",
       "      <td>0.312048</td>\n",
       "      <td>754455784200366080</td>\n",
       "      <td>670</td>\n",
       "      <td>52520</td>\n",
       "      <td>374</td>\n",
       "    </tr>\n",
       "    <tr>\n",
       "      <th>3</th>\n",
       "      <td>1237645879562928258</td>\n",
       "      <td>16.020244</td>\n",
       "      <td>1.267667</td>\n",
       "      <td>20.96947</td>\n",
       "      <td>20.29136</td>\n",
       "      <td>19.36779</td>\n",
       "      <td>18.86387</td>\n",
       "      <td>18.45551</td>\n",
       "      <td>0.200468</td>\n",
       "      <td>754453860055017472</td>\n",
       "      <td>670</td>\n",
       "      <td>52520</td>\n",
       "      <td>367</td>\n",
       "    </tr>\n",
       "    <tr>\n",
       "      <th>4</th>\n",
       "      <td>1237645879562928805</td>\n",
       "      <td>16.026029</td>\n",
       "      <td>1.266772</td>\n",
       "      <td>25.27165</td>\n",
       "      <td>22.32081</td>\n",
       "      <td>21.33033</td>\n",
       "      <td>19.94852</td>\n",
       "      <td>19.47201</td>\n",
       "      <td>0.752645</td>\n",
       "      <td>4853831831466778624</td>\n",
       "      <td>4311</td>\n",
       "      <td>55506</td>\n",
       "      <td>281</td>\n",
       "    </tr>\n",
       "  </tbody>\n",
       "</table>\n",
       "</div>"
      ],
      "text/plain": [
       "                 objid          ra       dec         u         g         r  \\\n",
       "0  1237645879551000764  348.841087  1.268802  25.92735  20.99570  19.24612   \n",
       "1  1237645879551066262  348.902530  1.271886  19.38905  18.24496  17.58728   \n",
       "2  1237645879562928144   16.004912  1.259423  21.50923  19.69340  18.47973   \n",
       "3  1237645879562928258   16.020244  1.267667  20.96947  20.29136  19.36779   \n",
       "4  1237645879562928805   16.026029  1.266772  25.27165  22.32081  21.33033   \n",
       "\n",
       "          i         z  redshift            specobjid  plate    mjd  fiberid  \n",
       "0  18.56461  18.43049  0.399651  4825695603672457216   4286  55499      322  \n",
       "1  17.20807  16.90905  0.032125   430194949951088640    382  51816      368  \n",
       "2  17.91998  17.55132  0.312048   754455784200366080    670  52520      374  \n",
       "3  18.86387  18.45551  0.200468   754453860055017472    670  52520      367  \n",
       "4  19.94852  19.47201  0.752645  4853831831466778624   4311  55506      281  "
      ]
     },
     "execution_count": 5,
     "metadata": {},
     "output_type": "execute_result"
    }
   ],
   "source": [
    "df_filtered = df[(df['i'] != -9999.0) & (df['z'] != -9999.0) & (df['redshift'] != 0.00)]\n",
    "df_filtered.head()"
   ]
  },
  {
   "cell_type": "markdown",
   "metadata": {},
   "source": [
    "Creates equivalents to y and x_rot using the filtered dataframe instead."
   ]
  },
  {
   "cell_type": "code",
   "execution_count": 6,
   "metadata": {},
   "outputs": [
    {
     "data": {
      "text/html": [
       "<div>\n",
       "<style scoped>\n",
       "    .dataframe tbody tr th:only-of-type {\n",
       "        vertical-align: middle;\n",
       "    }\n",
       "\n",
       "    .dataframe tbody tr th {\n",
       "        vertical-align: top;\n",
       "    }\n",
       "\n",
       "    .dataframe thead th {\n",
       "        text-align: right;\n",
       "    }\n",
       "</style>\n",
       "<table border=\"1\" class=\"dataframe\">\n",
       "  <thead>\n",
       "    <tr style=\"text-align: right;\">\n",
       "      <th></th>\n",
       "      <th>u</th>\n",
       "      <th>g</th>\n",
       "      <th>r</th>\n",
       "      <th>i</th>\n",
       "      <th>z</th>\n",
       "    </tr>\n",
       "  </thead>\n",
       "  <tbody>\n",
       "    <tr>\n",
       "      <th>0</th>\n",
       "      <td>25.92735</td>\n",
       "      <td>20.99570</td>\n",
       "      <td>19.24612</td>\n",
       "      <td>18.56461</td>\n",
       "      <td>18.43049</td>\n",
       "    </tr>\n",
       "    <tr>\n",
       "      <th>1</th>\n",
       "      <td>19.38905</td>\n",
       "      <td>18.24496</td>\n",
       "      <td>17.58728</td>\n",
       "      <td>17.20807</td>\n",
       "      <td>16.90905</td>\n",
       "    </tr>\n",
       "    <tr>\n",
       "      <th>2</th>\n",
       "      <td>21.50923</td>\n",
       "      <td>19.69340</td>\n",
       "      <td>18.47973</td>\n",
       "      <td>17.91998</td>\n",
       "      <td>17.55132</td>\n",
       "    </tr>\n",
       "    <tr>\n",
       "      <th>3</th>\n",
       "      <td>20.96947</td>\n",
       "      <td>20.29136</td>\n",
       "      <td>19.36779</td>\n",
       "      <td>18.86387</td>\n",
       "      <td>18.45551</td>\n",
       "    </tr>\n",
       "    <tr>\n",
       "      <th>4</th>\n",
       "      <td>25.27165</td>\n",
       "      <td>22.32081</td>\n",
       "      <td>21.33033</td>\n",
       "      <td>19.94852</td>\n",
       "      <td>19.47201</td>\n",
       "    </tr>\n",
       "  </tbody>\n",
       "</table>\n",
       "</div>"
      ],
      "text/plain": [
       "          u         g         r         i         z\n",
       "0  25.92735  20.99570  19.24612  18.56461  18.43049\n",
       "1  19.38905  18.24496  17.58728  17.20807  16.90905\n",
       "2  21.50923  19.69340  18.47973  17.91998  17.55132\n",
       "3  20.96947  20.29136  19.36779  18.86387  18.45551\n",
       "4  25.27165  22.32081  21.33033  19.94852  19.47201"
      ]
     },
     "execution_count": 6,
     "metadata": {},
     "output_type": "execute_result"
    }
   ],
   "source": [
    "filtered_y = df_filtered['redshift']\n",
    "filtered_x = df_filtered.iloc[:,3:8]\n",
    "filtered_x.head()"
   ]
  },
  {
   "cell_type": "markdown",
   "metadata": {},
   "source": [
    "Example of Support Vector Regression"
   ]
  },
  {
   "cell_type": "code",
   "execution_count": 7,
   "metadata": {},
   "outputs": [
    {
     "data": {
      "text/plain": [
       "SVR(C=1.0, cache_size=200, coef0=0.0, degree=3, epsilon=0.1, gamma='auto',\n",
       "  kernel='rbf', max_iter=-1, shrinking=True, tol=0.001, verbose=False)"
      ]
     },
     "execution_count": 7,
     "metadata": {},
     "output_type": "execute_result"
    }
   ],
   "source": [
    "from sklearn import svm\n",
    "X = [[0, 0], [2, 2]]\n",
    "y = [0.5, 2.5]\n",
    "clf = svm.SVR()\n",
    "clf.fit(X, y) "
   ]
  },
  {
   "cell_type": "code",
   "execution_count": 8,
   "metadata": {},
   "outputs": [
    {
     "data": {
      "text/plain": [
       "array([1.5])"
      ]
     },
     "execution_count": 8,
     "metadata": {},
     "output_type": "execute_result"
    }
   ],
   "source": [
    "clf.predict([[1, 1]])"
   ]
  },
  {
   "cell_type": "code",
   "execution_count": 9,
   "metadata": {},
   "outputs": [
    {
     "data": {
      "text/plain": [
       "SVR(C=1.0, cache_size=200, coef0=0.0, degree=3, epsilon=0.1, gamma='auto',\n",
       "  kernel='rbf', max_iter=-1, shrinking=True, tol=0.001, verbose=False)"
      ]
     },
     "execution_count": 9,
     "metadata": {},
     "output_type": "execute_result"
    }
   ],
   "source": [
    "clf.fit(filtered_x, filtered_y)"
   ]
  },
  {
   "cell_type": "code",
   "execution_count": 10,
   "metadata": {},
   "outputs": [
    {
     "name": "stdout",
     "output_type": "stream",
     "text": [
      "[16.25679, 27.24833, 14.80274, 25.424970000000002, 14.26476, 29.72628, 13.898439999999999, 24.36224, 13.9735, 22.827070000000003]\n"
     ]
    }
   ],
   "source": [
    "filtered_x_list = []\n",
    "for column in filtered_x:\n",
    "    filtered_x_list.append(min(filtered_x[column]))\n",
    "    filtered_x_list.append(max(filtered_x[column]))\n",
    "print(filtered_x_list)"
   ]
  },
  {
   "cell_type": "code",
   "execution_count": 11,
   "metadata": {},
   "outputs": [
    {
     "data": {
      "image/png": "[encoded data removed]",
      "text/plain": [
       "<Figure size 432x288 with 1 Axes>"
      ]
     },
     "metadata": {},
     "output_type": "display_data"
    },
    {
     "data": {
      "image/png": "[encoded data removed]",
      "text/plain": [
       "<Figure size 432x288 with 1 Axes>"
      ]
     },
     "metadata": {},
     "output_type": "display_data"
    },
    {
     "data": {
      "image/png": "[encoded data removed]",
      "text/plain": [
       "<Figure size 432x288 with 1 Axes>"
      ]
     },
     "metadata": {},
     "output_type": "display_data"
    },
    {
     "data": {
      "image/png": "[encoded data removed]",
      "text/plain": [
       "<Figure size 432x288 with 1 Axes>"
      ]
     },
     "metadata": {},
     "output_type": "display_data"
    },
    {
     "data": {
      "image/png": "[encoded data removed]",
      "text/plain": [
       "<Figure size 432x288 with 1 Axes>"
      ]
     },
     "metadata": {},
     "output_type": "display_data"
    }
   ],
   "source": [
    "one_filtered_x_for_plotting = numpy.linspace(min(filtered_x_list), max(filtered_x_list), 5)\n",
    "filtered_x_for_plotting = numpy.asarray([one_filtered_x_for_plotting, one_filtered_x_for_plotting, \\\n",
    "                                         one_filtered_x_for_plotting, one_filtered_x_for_plotting, \\\n",
    "                                         one_filtered_x_for_plotting])\n",
    "filtered_y_for_grid = clf.predict(filtered_x_for_plotting.T)\n",
    "\n",
    "for i in range(5):\n",
    "    plt.scatter(filtered_x.iloc[:,i], filtered_y, color='black')\n",
    "    plt.plot(filtered_x_for_plotting[i], filtered_y_for_grid,  color='blue', linewidth = 3)\n",
    "    plt.xlabel(\"Magnitude\")\n",
    "    plt.ylabel(\"Redshift\")\n",
    "    plt.show()"
   ]
  },
  {
   "cell_type": "code",
   "execution_count": 12,
   "metadata": {},
   "outputs": [
    {
     "name": "stdout",
     "output_type": "stream",
     "text": [
      "1.4067174606852704\n"
     ]
    }
   ],
   "source": [
    "def chi_square_error(observed_y, predicted_y):\n",
    "    error = 0\n",
    "    observed_y_list = observed_y.tolist()\n",
    "    predicted_y_list = predicted_y.tolist()\n",
    "    for i in predicted_y_list:\n",
    "        error += ((observed_y_list[predicted_y_list.index(i)] - i)**2)/i\n",
    "    print(error)\n",
    "\n",
    "chi_square_error(filtered_y, filtered_y_for_grid)"
   ]
  },
  {
   "cell_type": "markdown",
   "metadata": {},
   "source": [
    "Eliminates outliers in the redshift column by"
   ]
  },
  {
   "cell_type": "code",
   "execution_count": 21,
   "metadata": {},
   "outputs": [
    {
     "data": {
      "text/html": [
       "<div>\n",
       "<style scoped>\n",
       "    .dataframe tbody tr th:only-of-type {\n",
       "        vertical-align: middle;\n",
       "    }\n",
       "\n",
       "    .dataframe tbody tr th {\n",
       "        vertical-align: top;\n",
       "    }\n",
       "\n",
       "    .dataframe thead th {\n",
       "        text-align: right;\n",
       "    }\n",
       "</style>\n",
       "<table border=\"1\" class=\"dataframe\">\n",
       "  <thead>\n",
       "    <tr style=\"text-align: right;\">\n",
       "      <th></th>\n",
       "      <th>objid</th>\n",
       "      <th>ra</th>\n",
       "      <th>dec</th>\n",
       "      <th>u</th>\n",
       "      <th>g</th>\n",
       "      <th>r</th>\n",
       "      <th>i</th>\n",
       "      <th>z</th>\n",
       "      <th>redshift</th>\n",
       "      <th>specobjid</th>\n",
       "      <th>plate</th>\n",
       "      <th>mjd</th>\n",
       "      <th>fiberid</th>\n",
       "    </tr>\n",
       "  </thead>\n",
       "  <tbody>\n",
       "    <tr>\n",
       "      <th>0</th>\n",
       "      <td>1237645879551000764</td>\n",
       "      <td>348.841087</td>\n",
       "      <td>1.268802</td>\n",
       "      <td>25.92735</td>\n",
       "      <td>20.99570</td>\n",
       "      <td>19.24612</td>\n",
       "      <td>18.56461</td>\n",
       "      <td>18.43049</td>\n",
       "      <td>0.399651</td>\n",
       "      <td>4825695603672457216</td>\n",
       "      <td>4286</td>\n",
       "      <td>55499</td>\n",
       "      <td>322</td>\n",
       "    </tr>\n",
       "    <tr>\n",
       "      <th>1</th>\n",
       "      <td>1237645879551066262</td>\n",
       "      <td>348.902530</td>\n",
       "      <td>1.271886</td>\n",
       "      <td>19.38905</td>\n",
       "      <td>18.24496</td>\n",
       "      <td>17.58728</td>\n",
       "      <td>17.20807</td>\n",
       "      <td>16.90905</td>\n",
       "      <td>0.032125</td>\n",
       "      <td>430194949951088640</td>\n",
       "      <td>382</td>\n",
       "      <td>51816</td>\n",
       "      <td>368</td>\n",
       "    </tr>\n",
       "    <tr>\n",
       "      <th>2</th>\n",
       "      <td>1237645879562928144</td>\n",
       "      <td>16.004912</td>\n",
       "      <td>1.259423</td>\n",
       "      <td>21.50923</td>\n",
       "      <td>19.69340</td>\n",
       "      <td>18.47973</td>\n",
       "      <td>17.91998</td>\n",
       "      <td>17.55132</td>\n",
       "      <td>0.312048</td>\n",
       "      <td>754455784200366080</td>\n",
       "      <td>670</td>\n",
       "      <td>52520</td>\n",
       "      <td>374</td>\n",
       "    </tr>\n",
       "    <tr>\n",
       "      <th>3</th>\n",
       "      <td>1237645879562928258</td>\n",
       "      <td>16.020244</td>\n",
       "      <td>1.267667</td>\n",
       "      <td>20.96947</td>\n",
       "      <td>20.29136</td>\n",
       "      <td>19.36779</td>\n",
       "      <td>18.86387</td>\n",
       "      <td>18.45551</td>\n",
       "      <td>0.200468</td>\n",
       "      <td>754453860055017472</td>\n",
       "      <td>670</td>\n",
       "      <td>52520</td>\n",
       "      <td>367</td>\n",
       "    </tr>\n",
       "    <tr>\n",
       "      <th>4</th>\n",
       "      <td>1237645879562928805</td>\n",
       "      <td>16.026029</td>\n",
       "      <td>1.266772</td>\n",
       "      <td>25.27165</td>\n",
       "      <td>22.32081</td>\n",
       "      <td>21.33033</td>\n",
       "      <td>19.94852</td>\n",
       "      <td>19.47201</td>\n",
       "      <td>0.752645</td>\n",
       "      <td>4853831831466778624</td>\n",
       "      <td>4311</td>\n",
       "      <td>55506</td>\n",
       "      <td>281</td>\n",
       "    </tr>\n",
       "  </tbody>\n",
       "</table>\n",
       "</div>"
      ],
      "text/plain": [
       "                 objid          ra       dec         u         g         r  \\\n",
       "0  1237645879551000764  348.841087  1.268802  25.92735  20.99570  19.24612   \n",
       "1  1237645879551066262  348.902530  1.271886  19.38905  18.24496  17.58728   \n",
       "2  1237645879562928144   16.004912  1.259423  21.50923  19.69340  18.47973   \n",
       "3  1237645879562928258   16.020244  1.267667  20.96947  20.29136  19.36779   \n",
       "4  1237645879562928805   16.026029  1.266772  25.27165  22.32081  21.33033   \n",
       "\n",
       "          i         z  redshift            specobjid  plate    mjd  fiberid  \n",
       "0  18.56461  18.43049  0.399651  4825695603672457216   4286  55499      322  \n",
       "1  17.20807  16.90905  0.032125   430194949951088640    382  51816      368  \n",
       "2  17.91998  17.55132  0.312048   754455784200366080    670  52520      374  \n",
       "3  18.86387  18.45551  0.200468   754453860055017472    670  52520      367  \n",
       "4  19.94852  19.47201  0.752645  4853831831466778624   4311  55506      281  "
      ]
     },
     "execution_count": 21,
     "metadata": {},
     "output_type": "execute_result"
    }
   ],
   "source": [
    "no_outliers_df = df_filtered[numpy.abs(df_filtered['redshift']-df_filtered['redshift'].mean())\\\n",
    "                             <=(3*df_filtered['redshift'].std())]\n",
    "no_outliers_df.head()"
   ]
  },
  {
   "cell_type": "code",
   "execution_count": 25,
   "metadata": {},
   "outputs": [
    {
     "data": {
      "text/html": [
       "<div>\n",
       "<style scoped>\n",
       "    .dataframe tbody tr th:only-of-type {\n",
       "        vertical-align: middle;\n",
       "    }\n",
       "\n",
       "    .dataframe tbody tr th {\n",
       "        vertical-align: top;\n",
       "    }\n",
       "\n",
       "    .dataframe thead th {\n",
       "        text-align: right;\n",
       "    }\n",
       "</style>\n",
       "<table border=\"1\" class=\"dataframe\">\n",
       "  <thead>\n",
       "    <tr style=\"text-align: right;\">\n",
       "      <th></th>\n",
       "      <th>u</th>\n",
       "      <th>g</th>\n",
       "      <th>r</th>\n",
       "      <th>i</th>\n",
       "      <th>z</th>\n",
       "    </tr>\n",
       "  </thead>\n",
       "  <tbody>\n",
       "    <tr>\n",
       "      <th>0</th>\n",
       "      <td>25.92735</td>\n",
       "      <td>20.99570</td>\n",
       "      <td>19.24612</td>\n",
       "      <td>18.56461</td>\n",
       "      <td>18.43049</td>\n",
       "    </tr>\n",
       "    <tr>\n",
       "      <th>1</th>\n",
       "      <td>19.38905</td>\n",
       "      <td>18.24496</td>\n",
       "      <td>17.58728</td>\n",
       "      <td>17.20807</td>\n",
       "      <td>16.90905</td>\n",
       "    </tr>\n",
       "    <tr>\n",
       "      <th>2</th>\n",
       "      <td>21.50923</td>\n",
       "      <td>19.69340</td>\n",
       "      <td>18.47973</td>\n",
       "      <td>17.91998</td>\n",
       "      <td>17.55132</td>\n",
       "    </tr>\n",
       "    <tr>\n",
       "      <th>3</th>\n",
       "      <td>20.96947</td>\n",
       "      <td>20.29136</td>\n",
       "      <td>19.36779</td>\n",
       "      <td>18.86387</td>\n",
       "      <td>18.45551</td>\n",
       "    </tr>\n",
       "    <tr>\n",
       "      <th>4</th>\n",
       "      <td>25.27165</td>\n",
       "      <td>22.32081</td>\n",
       "      <td>21.33033</td>\n",
       "      <td>19.94852</td>\n",
       "      <td>19.47201</td>\n",
       "    </tr>\n",
       "  </tbody>\n",
       "</table>\n",
       "</div>"
      ],
      "text/plain": [
       "          u         g         r         i         z\n",
       "0  25.92735  20.99570  19.24612  18.56461  18.43049\n",
       "1  19.38905  18.24496  17.58728  17.20807  16.90905\n",
       "2  21.50923  19.69340  18.47973  17.91998  17.55132\n",
       "3  20.96947  20.29136  19.36779  18.86387  18.45551\n",
       "4  25.27165  22.32081  21.33033  19.94852  19.47201"
      ]
     },
     "execution_count": 25,
     "metadata": {},
     "output_type": "execute_result"
    }
   ],
   "source": [
    "filtered_no_outliers_y = no_outliers_df['redshift']\n",
    "filtered_no_outliers_x = no_outliers_df.iloc[:,3:8]\n",
    "filtered_no_outliers_x.head()"
   ]
  },
  {
   "cell_type": "code",
   "execution_count": 27,
   "metadata": {},
   "outputs": [
    {
     "data": {
      "text/plain": [
       "SVR(C=1.0, cache_size=200, coef0=0.0, degree=3, epsilon=0.1, gamma='auto',\n",
       "  kernel='rbf', max_iter=-1, shrinking=True, tol=0.001, verbose=False)"
      ]
     },
     "execution_count": 27,
     "metadata": {},
     "output_type": "execute_result"
    }
   ],
   "source": [
    "clf.fit(filtered_no_outliers_x, filtered_no_outliers_y)"
   ]
  },
  {
   "cell_type": "code",
   "execution_count": 28,
   "metadata": {},
   "outputs": [
    {
     "name": "stdout",
     "output_type": "stream",
     "text": [
      "[16.25679, 27.24833, 14.80274, 25.424970000000002, 14.26476, 29.72628, 13.898439999999999, 24.36224, 13.9735, 22.827070000000003]\n"
     ]
    }
   ],
   "source": [
    "filtered_no_outliers_x_list = []\n",
    "for column in filtered_no_outliers_x:\n",
    "    filtered_no_outliers_x_list.append(min(filtered_no_outliers_x[column]))\n",
    "    filtered_no_outliers_x_list.append(max(filtered_no_outliers_x[column]))\n",
    "print(filtered_no_outliers_x_list)"
   ]
  },
  {
   "cell_type": "code",
   "execution_count": null,
   "metadata": {},
   "outputs": [],
   "source": [
    "one_no_outliers_filtered_x_for_plotting = numpy.linspace(min(filtered_no_outliers_x_list), max(filtered_no_outliers_x_list), 5)\n",
    "no_outliers_filtered_x_for_plotting = numpy.asarray([one_no_outliers_filtered_x_for_plotting, \\\n",
    "                                                     one_no_outliers_filtered_x_for_plotting, \\\n",
    "                                         one_no_outliers_filtered_x_for_plotting, one_no_outliers_filtered_x_for_plotting, \\\n",
    "                                         one_no_outliers_filtered_x_for_plotting])\n",
    "filtered_y_for_grid = clf.predict(filtered_no_outliersx_for_plotting.T)\n",
    "\n",
    "for i in range(5):\n",
    "    plt.scatter(filtered_x.iloc[:,i], filtered_y, color='black')\n",
    "    plt.plot(filtered_x_for_plotting[i], filtered_y_for_grid,  color='blue', linewidth = 3)\n",
    "    plt.xlabel(\"Magnitude\")\n",
    "    plt.ylabel(\"Redshift\")\n",
    "    plt.show()"
   ]
  }
 ],
 "metadata": {
  "kernelspec": {
   "display_name": "Python 3",
   "language": "python",
   "name": "python3"
  },
  "language_info": {
   "codemirror_mode": {
    "name": "ipython",
    "version": 3
   },
   "file_extension": ".py",
   "mimetype": "text/x-python",
   "name": "python",
   "nbconvert_exporter": "python",
   "pygments_lexer": "ipython3",
   "version": "3.6.4"
  }
 },
 "nbformat": 4,
 "nbformat_minor": 2
}
